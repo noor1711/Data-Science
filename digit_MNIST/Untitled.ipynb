{
 "cells": [
  {
   "cell_type": "code",
   "execution_count": 36,
   "id": "17d9a91e",
   "metadata": {},
   "outputs": [],
   "source": [
    "from sklearn.datasets import fetch_openml\n",
    "mnist = fetch_openml('mnist_784', version=1, as_frame= False)\n",
    "# This dataset is pretty big so some codes might take lil bit time\n",
    "# WARNING: Alot of comments ahead"
   ]
  },
  {
   "cell_type": "code",
   "execution_count": 2,
   "id": "80fe26bc",
   "metadata": {},
   "outputs": [
    {
     "data": {
      "text/plain": [
       "dict_keys(['data', 'target', 'frame', 'categories', 'feature_names', 'target_names', 'DESCR', 'details', 'url'])"
      ]
     },
     "execution_count": 2,
     "metadata": {},
     "output_type": "execute_result"
    }
   ],
   "source": [
    "mnist.keys()"
   ]
  },
  {
   "cell_type": "code",
   "execution_count": 3,
   "id": "1a828d7d",
   "metadata": {
    "collapsed": true
   },
   "outputs": [
    {
     "name": "stdout",
     "output_type": "stream",
     "text": [
      "**Author**: Yann LeCun, Corinna Cortes, Christopher J.C. Burges  \n",
      "**Source**: [MNIST Website](http://yann.lecun.com/exdb/mnist/) - Date unknown  \n",
      "**Please cite**:  \n",
      "\n",
      "The MNIST database of handwritten digits with 784 features, raw data available at: http://yann.lecun.com/exdb/mnist/. It can be split in a training set of the first 60,000 examples, and a test set of 10,000 examples  \n",
      "\n",
      "It is a subset of a larger set available from NIST. The digits have been size-normalized and centered in a fixed-size image. It is a good database for people who want to try learning techniques and pattern recognition methods on real-world data while spending minimal efforts on preprocessing and formatting. The original black and white (bilevel) images from NIST were size normalized to fit in a 20x20 pixel box while preserving their aspect ratio. The resulting images contain grey levels as a result of the anti-aliasing technique used by the normalization algorithm. the images were centered in a 28x28 image by computing the center of mass of the pixels, and translating the image so as to position this point at the center of the 28x28 field.  \n",
      "\n",
      "With some classification methods (particularly template-based methods, such as SVM and K-nearest neighbors), the error rate improves when the digits are centered by bounding box rather than center of mass. If you do this kind of pre-processing, you should report it in your publications. The MNIST database was constructed from NIST's NIST originally designated SD-3 as their training set and SD-1 as their test set. However, SD-3 is much cleaner and easier to recognize than SD-1. The reason for this can be found on the fact that SD-3 was collected among Census Bureau employees, while SD-1 was collected among high-school students. Drawing sensible conclusions from learning experiments requires that the result be independent of the choice of training set and test among the complete set of samples. Therefore it was necessary to build a new database by mixing NIST's datasets.  \n",
      "\n",
      "The MNIST training set is composed of 30,000 patterns from SD-3 and 30,000 patterns from SD-1. Our test set was composed of 5,000 patterns from SD-3 and 5,000 patterns from SD-1. The 60,000 pattern training set contained examples from approximately 250 writers. We made sure that the sets of writers of the training set and test set were disjoint. SD-1 contains 58,527 digit images written by 500 different writers. In contrast to SD-3, where blocks of data from each writer appeared in sequence, the data in SD-1 is scrambled. Writer identities for SD-1 is available and we used this information to unscramble the writers. We then split SD-1 in two: characters written by the first 250 writers went into our new training set. The remaining 250 writers were placed in our test set. Thus we had two sets with nearly 30,000 examples each. The new training set was completed with enough examples from SD-3, starting at pattern # 0, to make a full set of 60,000 training patterns. Similarly, the new test set was completed with SD-3 examples starting at pattern # 35,000 to make a full set with 60,000 test patterns. Only a subset of 10,000 test images (5,000 from SD-1 and 5,000 from SD-3) is available on this site. The full 60,000 sample training set is available.\n",
      "\n",
      "Downloaded from openml.org.\n"
     ]
    }
   ],
   "source": [
    "print(mnist.DESCR)"
   ]
  },
  {
   "cell_type": "code",
   "execution_count": 4,
   "id": "ded821d1",
   "metadata": {},
   "outputs": [],
   "source": [
    " X, y = mnist[\"data\"], mnist[\"target\"]"
   ]
  },
  {
   "cell_type": "code",
   "execution_count": 5,
   "id": "f80a5a89",
   "metadata": {},
   "outputs": [
    {
     "name": "stdout",
     "output_type": "stream",
     "text": [
      "<class 'numpy.ndarray'>\n"
     ]
    }
   ],
   "source": [
    "print(type(X))  # Nice numpy is always nice"
   ]
  },
  {
   "cell_type": "code",
   "execution_count": 6,
   "id": "f2848719",
   "metadata": {},
   "outputs": [
    {
     "data": {
      "text/plain": [
       "(70000, 784)"
      ]
     },
     "execution_count": 6,
     "metadata": {},
     "output_type": "execute_result"
    }
   ],
   "source": [
    "X.shape"
   ]
  },
  {
   "cell_type": "code",
   "execution_count": 7,
   "id": "675a9acc",
   "metadata": {
    "scrolled": true
   },
   "outputs": [
    {
     "data": {
      "text/plain": [
       "(70000,)"
      ]
     },
     "execution_count": 7,
     "metadata": {},
     "output_type": "execute_result"
    }
   ],
   "source": [
    "y.shape"
   ]
  },
  {
   "cell_type": "code",
   "execution_count": 55,
   "id": "f41ad0db",
   "metadata": {},
   "outputs": [
    {
     "data": {
      "image/png": "[encoded data removed]",
      "text/plain": [
       "<Figure size 432x288 with 1 Axes>"
      ]
     },
     "metadata": {
      "needs_background": "light"
     },
     "output_type": "display_data"
    }
   ],
   "source": [
    "# As stated in the DESCR each image is 28x28 pixels\n",
    "# We can try to plot a digit now\n",
    "import matplotlib.pyplot as plt\n",
    "some_digit = X[0]\n",
    "some_digit_image = some_digit.reshape(28, 28)\n",
    "plt.imshow(some_digit_image)\n",
    "plt.axis(\"off\")\n",
    "plt.show() # Don't really need this in jupyter"
   ]
  },
  {
   "cell_type": "code",
   "execution_count": 9,
   "id": "69b26f23",
   "metadata": {
    "collapsed": true
   },
   "outputs": [
    {
     "name": "stdout",
     "output_type": "stream",
     "text": [
      "[[  0.   0.   0.   0.   0.   0.   0.   0.   0.   0.   0.   0.   0.   0.\n",
      "    0.   0.   0.   0.   0.   0.   0.   0.   0.   0.   0.   0.   0.   0.]\n",
      " [  0.   0.   0.   0.   0.   0.   0.   0.   0.   0.   0.   0.   0.   0.\n",
      "    0.   0.   0.   0.   0.   0.   0.   0.   0.   0.   0.   0.   0.   0.]\n",
      " [  0.   0.   0.   0.   0.   0.   0.   0.   0.   0.   0.   0.   0.   0.\n",
      "    0.   0.   0.   0.   0.   0.   0.   0.   0.   0.   0.   0.   0.   0.]\n",
      " [  0.   0.   0.   0.   0.   0.   0.   0.   0.   0.   0.   0.   0.   0.\n",
      "    0.   0.   0.   0.   0.   0.   0.   0.   0.   0.   0.   0.   0.   0.]\n",
      " [  0.   0.   0.   0.   0.   0.   0.   0.   0.   0.   0.   0.   0.   0.\n",
      "    0.   0.   0.   0.   0.   0.   0.   0.   0.   0.   0.   0.   0.   0.]\n",
      " [  0.   0.   0.   0.   0.   0.   0.   0.   0.   0.   0.   0.   3.  18.\n",
      "   18.  18. 126. 136. 175.  26. 166. 255. 247. 127.   0.   0.   0.   0.]\n",
      " [  0.   0.   0.   0.   0.   0.   0.   0.  30.  36.  94. 154. 170. 253.\n",
      "  253. 253. 253. 253. 225. 172. 253. 242. 195.  64.   0.   0.   0.   0.]\n",
      " [  0.   0.   0.   0.   0.   0.   0.  49. 238. 253. 253. 253. 253. 253.\n",
      "  253. 253. 253. 251.  93.  82.  82.  56.  39.   0.   0.   0.   0.   0.]\n",
      " [  0.   0.   0.   0.   0.   0.   0.  18. 219. 253. 253. 253. 253. 253.\n",
      "  198. 182. 247. 241.   0.   0.   0.   0.   0.   0.   0.   0.   0.   0.]\n",
      " [  0.   0.   0.   0.   0.   0.   0.   0.  80. 156. 107. 253. 253. 205.\n",
      "   11.   0.  43. 154.   0.   0.   0.   0.   0.   0.   0.   0.   0.   0.]\n",
      " [  0.   0.   0.   0.   0.   0.   0.   0.   0.  14.   1. 154. 253.  90.\n",
      "    0.   0.   0.   0.   0.   0.   0.   0.   0.   0.   0.   0.   0.   0.]\n",
      " [  0.   0.   0.   0.   0.   0.   0.   0.   0.   0.   0. 139. 253. 190.\n",
      "    2.   0.   0.   0.   0.   0.   0.   0.   0.   0.   0.   0.   0.   0.]\n",
      " [  0.   0.   0.   0.   0.   0.   0.   0.   0.   0.   0.  11. 190. 253.\n",
      "   70.   0.   0.   0.   0.   0.   0.   0.   0.   0.   0.   0.   0.   0.]\n",
      " [  0.   0.   0.   0.   0.   0.   0.   0.   0.   0.   0.   0.  35. 241.\n",
      "  225. 160. 108.   1.   0.   0.   0.   0.   0.   0.   0.   0.   0.   0.]\n",
      " [  0.   0.   0.   0.   0.   0.   0.   0.   0.   0.   0.   0.   0.  81.\n",
      "  240. 253. 253. 119.  25.   0.   0.   0.   0.   0.   0.   0.   0.   0.]\n",
      " [  0.   0.   0.   0.   0.   0.   0.   0.   0.   0.   0.   0.   0.   0.\n",
      "   45. 186. 253. 253. 150.  27.   0.   0.   0.   0.   0.   0.   0.   0.]\n",
      " [  0.   0.   0.   0.   0.   0.   0.   0.   0.   0.   0.   0.   0.   0.\n",
      "    0.  16.  93. 252. 253. 187.   0.   0.   0.   0.   0.   0.   0.   0.]\n",
      " [  0.   0.   0.   0.   0.   0.   0.   0.   0.   0.   0.   0.   0.   0.\n",
      "    0.   0.   0. 249. 253. 249.  64.   0.   0.   0.   0.   0.   0.   0.]\n",
      " [  0.   0.   0.   0.   0.   0.   0.   0.   0.   0.   0.   0.   0.   0.\n",
      "   46. 130. 183. 253. 253. 207.   2.   0.   0.   0.   0.   0.   0.   0.]\n",
      " [  0.   0.   0.   0.   0.   0.   0.   0.   0.   0.   0.   0.  39. 148.\n",
      "  229. 253. 253. 253. 250. 182.   0.   0.   0.   0.   0.   0.   0.   0.]\n",
      " [  0.   0.   0.   0.   0.   0.   0.   0.   0.   0.  24. 114. 221. 253.\n",
      "  253. 253. 253. 201.  78.   0.   0.   0.   0.   0.   0.   0.   0.   0.]\n",
      " [  0.   0.   0.   0.   0.   0.   0.   0.  23.  66. 213. 253. 253. 253.\n",
      "  253. 198.  81.   2.   0.   0.   0.   0.   0.   0.   0.   0.   0.   0.]\n",
      " [  0.   0.   0.   0.   0.   0.  18. 171. 219. 253. 253. 253. 253. 195.\n",
      "   80.   9.   0.   0.   0.   0.   0.   0.   0.   0.   0.   0.   0.   0.]\n",
      " [  0.   0.   0.   0.  55. 172. 226. 253. 253. 253. 253. 244. 133.  11.\n",
      "    0.   0.   0.   0.   0.   0.   0.   0.   0.   0.   0.   0.   0.   0.]\n",
      " [  0.   0.   0.   0. 136. 253. 253. 253. 212. 135. 132.  16.   0.   0.\n",
      "    0.   0.   0.   0.   0.   0.   0.   0.   0.   0.   0.   0.   0.   0.]\n",
      " [  0.   0.   0.   0.   0.   0.   0.   0.   0.   0.   0.   0.   0.   0.\n",
      "    0.   0.   0.   0.   0.   0.   0.   0.   0.   0.   0.   0.   0.   0.]\n",
      " [  0.   0.   0.   0.   0.   0.   0.   0.   0.   0.   0.   0.   0.   0.\n",
      "    0.   0.   0.   0.   0.   0.   0.   0.   0.   0.   0.   0.   0.   0.]\n",
      " [  0.   0.   0.   0.   0.   0.   0.   0.   0.   0.   0.   0.   0.   0.\n",
      "    0.   0.   0.   0.   0.   0.   0.   0.   0.   0.   0.   0.   0.   0.]]\n"
     ]
    }
   ],
   "source": [
    "print(some_digit_image)"
   ]
  },
  {
   "cell_type": "code",
   "execution_count": 10,
   "id": "4a6be40d",
   "metadata": {},
   "outputs": [
    {
     "name": "stdout",
     "output_type": "stream",
     "text": [
      "<class 'str'>\n"
     ]
    }
   ],
   "source": [
    "import numpy as np\n",
    "print(type(y[0]))\n",
    "# We gotta convert it to int\n",
    "y = y.astype('int')"
   ]
  },
  {
   "cell_type": "code",
   "execution_count": 11,
   "id": "6d8f65af",
   "metadata": {},
   "outputs": [],
   "source": [
    "# So according to DESCR the dataset it already split, so we don't need to do a train test split ✌️\n",
    "X_train, X_test = X[:60000], X[60000:]\n",
    "y_train, y_test = y[:60000], y[60000:]"
   ]
  },
  {
   "cell_type": "code",
   "execution_count": 12,
   "id": "a92395cc",
   "metadata": {},
   "outputs": [],
   "source": [
    "# Am gonna use some cross-validation folds in this code, that's just creating tinier train and validation sets\n",
    "# The dataset is already shuffled toh like achi baat hai"
   ]
  },
  {
   "cell_type": "markdown",
   "id": "0bacb808",
   "metadata": {},
   "source": [
    "# Training a Binary Classifier"
   ]
  },
  {
   "cell_type": "code",
   "execution_count": 13,
   "id": "13182eb0",
   "metadata": {},
   "outputs": [],
   "source": [
    "# So like first thing I am gonna train a binary classifier\n",
    "# Cause why not\n",
    "# Also training a bigger one in a single attempt seems a bit tough to me\n",
    "# So this classifier is going to differentiate between fives and non fives"
   ]
  },
  {
   "cell_type": "code",
   "execution_count": 14,
   "id": "173542dc",
   "metadata": {},
   "outputs": [
    {
     "name": "stdout",
     "output_type": "stream",
     "text": [
      "[ True False False ...  True False False]\n"
     ]
    }
   ],
   "source": [
    "# So our training data is going to be the same\n",
    "# But like our labels just gonna be true or false\n",
    "# true for when its a five and false otherwise\n",
    "y_train_5 = ( y_train == 5 )\n",
    "print(y_train_5) # Voila\n",
    "y_test_5 = ( y_test == 5 )"
   ]
  },
  {
   "cell_type": "code",
   "execution_count": 15,
   "id": "4bd0ae24",
   "metadata": {},
   "outputs": [
    {
     "data": {
      "text/plain": [
       "SGDClassifier(random_state=42)"
      ]
     },
     "execution_count": 15,
     "metadata": {},
     "output_type": "execute_result"
    }
   ],
   "source": [
    "from sklearn.linear_model import SGDClassifier # Stochastic gradient descent classifier\n",
    "# Its good for online learning\n",
    "# ASK: It's working and how it varies wrt the normal gradient descent strategy taught in class ?\n",
    "sgd_classifier = SGDClassifier(random_state = 42) # so results can be resiprocates\n",
    "# Imported an instance now we train it\n",
    "sgd_classifier.fit(X_train, y_train_5)"
   ]
  },
  {
   "cell_type": "code",
   "execution_count": 16,
   "id": "5745e7c8",
   "metadata": {},
   "outputs": [
    {
     "name": "stdout",
     "output_type": "stream",
     "text": [
      "[ True]\n",
      "5\n"
     ]
    }
   ],
   "source": [
    "# Let's predict it now\n",
    "print(sgd_classifier.predict([some_digit]))\n",
    "print(y[0])\n",
    "# Yesthe classifier correctly indentifies the 5"
   ]
  },
  {
   "cell_type": "code",
   "execution_count": 18,
   "id": "b05c53df",
   "metadata": {},
   "outputs": [],
   "source": [
    "# Now we trained a binary classifier \n",
    "# Now we are going to test it's accuracy\n",
    "\n",
    "# First let's jus see how many correct predictions it makes"
   ]
  },
  {
   "cell_type": "code",
   "execution_count": 31,
   "id": "26f344ce",
   "metadata": {},
   "outputs": [
    {
     "name": "stdout",
     "output_type": "stream",
     "text": [
      "0.9546666666666667\n",
      "0.96975\n",
      "0.9635\n",
      "0.9653333333333334\n",
      "0.9484166666666667\n"
     ]
    }
   ],
   "source": [
    "from sklearn.model_selection import StratifiedKFold # splits the dataset into stratified folds for cross-validation\n",
    "from sklearn.base import clone # this is used to clone other model keeping parameters and throwing away the data\n",
    "\n",
    "# now first we split our training data into train and validation\n",
    "# also cross validation cause nai toh poora dataset use nai hoga\n",
    "# Setting a random_state has no effect since shuffle is False. \n",
    "# You should leave random_state to its default (None), or set shuffle=True.\n",
    "strat_k_folds = StratifiedKFold(n_splits = 5) # try three training phases\n",
    "\n",
    "for train_indices, test_indices in strat_k_folds.split(X_train, y_train_5):\n",
    "    # now we clone our gradient descent model, jus the model tho not its fits and estimates\n",
    "    clone_classifier = clone(sgd_classifier)\n",
    "    \n",
    "    # Don't use our actual test case here, jus the train is split \n",
    "    X_train_folds, y_train_folds = X_train[train_indices], y_train_5[train_indices]\n",
    "    X_test_folds, y_test_folds = X_train[test_indices], y_train_5[test_indices]\n",
    "    \n",
    "    # training it now\n",
    "    clone_classifier.fit(X_train_folds, y_train_folds)\n",
    "    answers = clone_classifier.predict(X_test_folds)\n",
    "    correct = np.sum(answers == y_test_folds)\n",
    "    print(correct/len(y_test_folds))\n",
    "    # Accuracy is pretty good"
   ]
  },
  {
   "cell_type": "code",
   "execution_count": 32,
   "id": "2b553164",
   "metadata": {},
   "outputs": [
    {
     "data": {
      "text/plain": [
       "array([0.95466667, 0.96975   , 0.9635    , 0.96533333, 0.94841667])"
      ]
     },
     "execution_count": 32,
     "metadata": {},
     "output_type": "execute_result"
    }
   ],
   "source": [
    "from sklearn.model_selection import cross_val_score\n",
    "cross_val_score(sgd_classifier, X_train, y_train_5, cv=5, scoring='accuracy') # this does the same thing \n",
    "# It uses 5 fold cross validation by default too "
   ]
  },
  {
   "cell_type": "code",
   "execution_count": 33,
   "id": "db8e5348",
   "metadata": {},
   "outputs": [],
   "source": [
    "# The accuracy above isn't that accurate of a measure \n",
    "# That's because only like 10% os the images are fives\n",
    "# We'll get a 90% accuracy even if we predict them all as non-fives\n",
    "# So like in case of classification we can't predict a model just based on the correct predictions"
   ]
  },
  {
   "cell_type": "markdown",
   "id": "bf8c460c",
   "metadata": {},
   "source": [
    "# Confusion MATRIX"
   ]
  },
  {
   "cell_type": "code",
   "execution_count": 34,
   "id": "4101e9fe",
   "metadata": {},
   "outputs": [],
   "source": [
    "# Like cross_val_score returns a score on each cross validation\n",
    "# cross_val_predict returns the predictions for each fold\n",
    "def conf_two(actual, predicted, ret_precision = False): # confusion matrix but just for two\n",
    "    true_positives = (actual&predicted).sum()\n",
    "    true_negatives = (~actual&~predicted).sum()\n",
    "    false_negatives = (actual&~predicted).sum()\n",
    "    false_positives = (~actual&predicted).sum()\n",
    "    precision = true_positives/(true_positives + false_positives)\n",
    "    if ret_precision:\n",
    "        return np.array([[true_negatives, false_positives],[false_negatives, true_positives]]), precision\n",
    "    return np.array([[true_negatives, false_positives],[false_negatives, true_positives]])\n"
   ]
  },
  {
   "cell_type": "code",
   "execution_count": 35,
   "id": "54cced8f",
   "metadata": {},
   "outputs": [],
   "source": [
    "# Now we are goign to use cross validation on our confusion matrix\n",
    "from sklearn.model_selection import cross_val_predict\n",
    "y_train_pred = cross_val_predict(sgd_classifier, X_train, y_train_5, cv = 5)\n",
    "# Ok so what cross_val_score is gonna do is its gonna split tis dataset into 5 parts\n",
    "# then taking each part as the test_set its gonna predict \n",
    "# then its gonna group all these tes_sets to give us back the total predictions"
   ]
  },
  {
   "cell_type": "code",
   "execution_count": 41,
   "id": "9d596067",
   "metadata": {},
   "outputs": [
    {
     "name": "stdout",
     "output_type": "stream",
     "text": [
      "(60000,)\n"
     ]
    }
   ],
   "source": [
    "print(y_train_pred.shape)"
   ]
  },
  {
   "cell_type": "code",
   "execution_count": 42,
   "id": "96a33b1e",
   "metadata": {},
   "outputs": [
    {
     "name": "stdout",
     "output_type": "stream",
     "text": [
      "[[53115  1464]\n",
      " [  916  4505]]\n"
     ]
    }
   ],
   "source": [
    "print(conf_two(y_train_5, y_train_pred))"
   ]
  },
  {
   "cell_type": "code",
   "execution_count": 43,
   "id": "1eebf07f",
   "metadata": {},
   "outputs": [],
   "source": [
    "conf_mat_5 = conf_two(y_train_5, y_train_pred)"
   ]
  },
  {
   "cell_type": "code",
   "execution_count": 67,
   "id": "d3e64aa3",
   "metadata": {},
   "outputs": [],
   "source": [
    "def ret_precision(conf_matrix):\n",
    "    TP = conf_matrix[1][1]\n",
    "    FP = conf_matrix[0][1]\n",
    "    return TP/(TP + FP)\n",
    "\n",
    "def ret_recall(conf_matrix):\n",
    "    TP = conf_matrix[1][1]\n",
    "    FN = conf_matrix[1][0]\n",
    "    return TP/(TP + FN)\n",
    "\n",
    "precision = ret_precision(conf_mat_5)\n",
    "# We can't really use precision alone tho \n",
    "# cause we can jus lower it down by making only those preds we're extremely sure about\n",
    "recall = ret_recall(conf_mat_5) # low recall good for medical tests"
   ]
  },
  {
   "cell_type": "code",
   "execution_count": 68,
   "id": "fb89cecc",
   "metadata": {},
   "outputs": [
    {
     "name": "stdout",
     "output_type": "stream",
     "text": [
      "Precision :-  0.7547327860613168\n",
      "Recall :-  0.8310274857037447\n"
     ]
    }
   ],
   "source": [
    "print('Precision :- ',precision)\n",
    "print('Recall :- ',recall)"
   ]
  },
  {
   "cell_type": "code",
   "execution_count": 50,
   "id": "65ff0c9a",
   "metadata": {},
   "outputs": [
    {
     "name": "stdout",
     "output_type": "stream",
     "text": [
      "0.7547327860613168\n",
      "0.8310274857037447\n"
     ]
    }
   ],
   "source": [
    "# Can also use the sklearn ones\n",
    "from sklearn.metrics import precision_score, recall_score\n",
    "print(precision_score(y_train_5, y_train_pred)) \n",
    "print(recall_score(y_train_5, y_train_pred))\n",
    "# Now the classifier looks a bit nice than it did a while ago"
   ]
  },
  {
   "cell_type": "code",
   "execution_count": 53,
   "id": "82713ead",
   "metadata": {},
   "outputs": [
    {
     "name": "stdout",
     "output_type": "stream",
     "text": [
      "0.791044776119403\n"
     ]
    }
   ],
   "source": [
    "f1_score = 2*precision*recall/(precision + recall)\n",
    "print(f1_score) # f1_score is high iff both recall and precision are high"
   ]
  },
  {
   "cell_type": "code",
   "execution_count": 54,
   "id": "a2cd3a2c",
   "metadata": {},
   "outputs": [
    {
     "data": {
      "text/plain": [
       "0.791044776119403"
      ]
     },
     "execution_count": 54,
     "metadata": {},
     "output_type": "execute_result"
    }
   ],
   "source": [
    "from sklearn.metrics import f1_score\n",
    "f1_score(y_train_5, y_train_pred) # could do this too"
   ]
  },
  {
   "cell_type": "code",
   "execution_count": 58,
   "id": "16c6a8db",
   "metadata": {},
   "outputs": [],
   "source": [
    "# Increasing precision reduces recall and vice versa\n",
    "# SGD classifier makes it decisions based ona threshold \n",
    "# It evaluates a value for each instance and decides wheter it passes or fails the threshold based on that value\n",
    "# We can increase the precision by increasing the threshold\n",
    "# An we can increare the recall by lowering the threshold\n",
    "# the sgd classifier provides us with th decision scores on its own \n",
    "y_score = sgd_classifier.decision_function([some_digit])"
   ]
  },
  {
   "cell_type": "code",
   "execution_count": 59,
   "id": "7e044bd4",
   "metadata": {},
   "outputs": [],
   "source": [
    "y_scores = sgd_classifier.decision_function(X_train)"
   ]
  },
  {
   "cell_type": "code",
   "execution_count": 70,
   "id": "5ac5d05c",
   "metadata": {},
   "outputs": [
    {
     "name": "stdout",
     "output_type": "stream",
     "text": [
      "When threshold is 1000 -  0.8045017244508985 0.8175613355469471\n",
      "When threshold is 5000 -  0.9754335260115607 0.37354731599335916\n",
      "When threshold is 8000 -  0.9872340425531915 0.1283895960154953\n"
     ]
    }
   ],
   "source": [
    "y_scores.max()\n",
    "y_pred_1000 = y_scores > 1000\n",
    "y_pred_5000 = y_scores > 5000\n",
    "y_pred_8000 = y_scores > 8000\n",
    "conf_1000 = conf_two(y_train_5, y_pred_1000)\n",
    "conf_5000 = conf_two(y_train_5, y_pred_5000)\n",
    "conf_8000 = conf_two(y_train_5, y_pred_8000)\n",
    "print(\"When threshold is 1000 - \", ret_precision(conf_1000), ret_recall(conf_1000))\n",
    "print(\"When threshold is 5000 - \", ret_precision(conf_5000), ret_recall(conf_5000))\n",
    "print(\"When threshold is 8000 - \", ret_precision(conf_8000), ret_recall(conf_8000))"
   ]
  },
  {
   "cell_type": "code",
   "execution_count": 72,
   "id": "de94a008",
   "metadata": {},
   "outputs": [],
   "source": [
    " y_scores = cross_val_predict(sgd_classifier, X_train, y_train_5, cv=5, method=\"decision_function\")"
   ]
  },
  {
   "cell_type": "code",
   "execution_count": 73,
   "id": "55854a11",
   "metadata": {},
   "outputs": [],
   "source": [
    "from sklearn.metrics import precision_recall_curve\n",
    "precisions, recalls, thresholds = precision_recall_curve(y_train_5, y_scores)"
   ]
  },
  {
   "cell_type": "code",
   "execution_count": 76,
   "id": "9945aa99",
   "metadata": {},
   "outputs": [
    {
     "name": "stdout",
     "output_type": "stream",
     "text": [
      "0.09046760789025733 1.0 -71657.12621733555\n",
      "0.09045242903155822 0.9998155321896329 -71564.61915860699\n",
      "0.09045393858477971 0.9998155321896329 -71564.4603085297\n",
      "0.09045544818838766 0.9998155321896329 -71507.89877522008\n",
      "0.0904569578423846 0.9998155321896329 -71416.5310232128\n",
      "0.09045846754677303 0.9998155321896329 -71299.32999591934\n",
      "0.09045997730155551 0.9998155321896329 -71239.74984816364\n",
      "0.09046148710673454 0.9998155321896329 -70957.26500222678\n",
      "0.09046299696231265 0.9998155321896329 -70746.6290822518\n",
      "0.09046450686829235 0.9998155321896329 -70718.58335690205\n"
     ]
    }
   ],
   "source": [
    "for i in range(10):\n",
    "    print(precisions[i], recalls[i], thresholds[i])"
   ]
  },
  {
   "cell_type": "code",
   "execution_count": 85,
   "id": "84bd4f90",
   "metadata": {},
   "outputs": [],
   "source": [
    "def plot_precision_recall_vs_threshold(precisions, recalls, thresholds): \n",
    "    plt.plot(thresholds, precisions[:-1], \"b--\", label=\"Precision\") \n",
    "    plt.plot(thresholds, recalls[:-1], \"g-\", label=\"Recall\")\n",
    "    plt.legend()"
   ]
  },
  {
   "cell_type": "code",
   "execution_count": 86,
   "id": "1bbac8cc",
   "metadata": {},
   "outputs": [
    {
     "data": {
      "image/png": "[encoded data removed]",
      "text/plain": [
       "<Figure size 432x288 with 1 Axes>"
      ]
     },
     "metadata": {
      "needs_background": "light"
     },
     "output_type": "display_data"
    }
   ],
   "source": [
    "plot_precision_recall_vs_threshold(precisions, recalls, thresholds)\n",
    "plt.show()"
   ]
  },
  {
   "cell_type": "code",
   "execution_count": 90,
   "id": "e35cc740",
   "metadata": {},
   "outputs": [
    {
     "data": {
      "image/png": "[encoded data removed]",
      "text/plain": [
       "<Figure size 432x288 with 1 Axes>"
      ]
     },
     "metadata": {
      "needs_background": "light"
     },
     "output_type": "display_data"
    }
   ],
   "source": [
    "def plot_precision_vs_recall(precisions, recalls):\n",
    "    plt.plot(recalls, precisions, 'b--')\n",
    "    plt.xlabel('Recall')\n",
    "    plt.ylabel('Precision')\n",
    "    \n",
    "plot_precision_vs_recall(precisions, recalls)\n",
    "plt.show()"
   ]
  },
  {
   "cell_type": "code",
   "execution_count": 94,
   "id": "298bc071",
   "metadata": {},
   "outputs": [],
   "source": [
    "# We can first try and aim for more than 90% precision \n",
    "# so like uske liye threshold dhoondhna padega\n",
    "reqd_index = np.argmax(precisions >= 0.90)\n",
    "reqd_threshold = thresholds[reqd_index]"
   ]
  },
  {
   "cell_type": "code",
   "execution_count": 95,
   "id": "b3e85f52",
   "metadata": {},
   "outputs": [
    {
     "name": "stdout",
     "output_type": "stream",
     "text": [
      "3045.925822705365\n"
     ]
    }
   ],
   "source": [
    "print(reqd_threshold)"
   ]
  },
  {
   "cell_type": "code",
   "execution_count": 96,
   "id": "cd661425",
   "metadata": {},
   "outputs": [],
   "source": [
    "y_train_pred_90 = (y_scores > reqd_threshold)"
   ]
  },
  {
   "cell_type": "code",
   "execution_count": 97,
   "id": "d1218c00",
   "metadata": {
    "scrolled": false
   },
   "outputs": [
    {
     "name": "stdout",
     "output_type": "stream",
     "text": [
      "0.9001764557600201 0.6587345508208817\n"
     ]
    }
   ],
   "source": [
    "conf_matrix_90precision = conf_two(y_train_5, y_train_pred_90)\n",
    "print(ret_precision(conf_matrix_90precision), ret_recall(conf_matrix_90precision))\n",
    "# the recall is pretty low tbh\n",
    "# like we don't want our classifier to just skip over alot of the fives"
   ]
  },
  {
   "cell_type": "code",
   "execution_count": 118,
   "id": "148e3c2e",
   "metadata": {},
   "outputs": [
    {
     "name": "stdout",
     "output_type": "stream",
     "text": [
      "0.829320806420043 0.7815901125253644 1098.2252043841559\n"
     ]
    },
    {
     "data": {
      "image/png": "[encoded data removed]",
      "text/plain": [
       "<Figure size 432x288 with 1 Axes>"
      ]
     },
     "metadata": {
      "needs_background": "light"
     },
     "output_type": "display_data"
    }
   ],
   "source": [
    "from sklearn.metrics import f1_score\n",
    "from sklearn.metrics import precision_recall_curve\n",
    "precisions, recalls, thresholds = precision_recall_curve(y_train_5, y_scores)\n",
    "f1_scores = 2*precisions*recalls/(precisions + recalls)\n",
    "plt.plot(thresholds, f1_scores[:-1])\n",
    "# It reaches max f1_score for a threshold of zero I'm guessing, mightve been offset ? \n",
    "f1_max = np.argmax(f1_scores)\n",
    "print(precisions[f1_max], recalls[f1_max], thresholds[f1_max])"
   ]
  },
  {
   "cell_type": "code",
   "execution_count": 112,
   "id": "fa5d746c",
   "metadata": {},
   "outputs": [
    {
     "name": "stdout",
     "output_type": "stream",
     "text": [
      "(59923,) (59923,) (59922,)\n"
     ]
    }
   ],
   "source": [
    "print(recalls.shape,precisions.shape,thresholds.shape)"
   ]
  },
  {
   "cell_type": "markdown",
   "id": "8da12185",
   "metadata": {},
   "source": [
    "# ROC curve"
   ]
  },
  {
   "cell_type": "code",
   "execution_count": 99,
   "id": "a4e87333",
   "metadata": {},
   "outputs": [],
   "source": [
    "# ROC curve plots TPR (recall(sensitivity)) against FPR( 1- TNR(specificity)), for different values of threshold\n",
    "from sklearn.metrics import roc_curve\n",
    "FPR, TPR, thresholds = roc_curve(y_train_5, y_scores)"
   ]
  },
  {
   "cell_type": "code",
   "execution_count": 102,
   "id": "c72d2246",
   "metadata": {},
   "outputs": [],
   "source": [
    "def plot_roc_curve(FPR, TPR, label = None):\n",
    "    plt.plot(FPR, TPR, linewidth = 2, label = label)\n",
    "    plt.plot([0,1],[0,1],'k--')"
   ]
  },
  {
   "cell_type": "code",
   "execution_count": 103,
   "id": "b6f86b86",
   "metadata": {},
   "outputs": [
    {
     "data": {
      "image/png": "[encoded data removed]",
      "text/plain": [
       "<Figure size 432x288 with 1 Axes>"
      ]
     },
     "metadata": {
      "needs_background": "light"
     },
     "output_type": "display_data"
    }
   ],
   "source": [
    "plot_roc_curve(FPR, TPR)\n",
    "plt.show()"
   ]
  },
  {
   "cell_type": "code",
   "execution_count": 105,
   "id": "c911c304",
   "metadata": {},
   "outputs": [
    {
     "data": {
      "text/plain": [
       "0.9648211175804801"
      ]
     },
     "execution_count": 105,
     "metadata": {},
     "output_type": "execute_result"
    }
   ],
   "source": [
    "# The area under the ROC curve for a perfect classifier would be 1\n",
    "# Lets calculate the area for ours\n",
    "from sklearn.metrics import roc_auc_score\n",
    "roc_auc_score(y_train_5, y_scores)\n",
    "# That's pretty good but like we saw in the PR curve its not doing that good"
   ]
  },
  {
   "cell_type": "code",
   "execution_count": 119,
   "id": "6b4ead21",
   "metadata": {},
   "outputs": [],
   "source": [
    "# Now lets try a random forest classifier, tbh i don't exaclty know what it is\n",
    "from sklearn.ensemble import RandomForestClassifier\n",
    "\n",
    "forest_classifier = RandomForestClassifier(random_state=42)\n",
    "y_probs_forest = cross_val_predict(forest_classifier, X_train, y_train_5, cv = 5, method='predict_proba')\n",
    "# This takes a while to run"
   ]
  },
  {
   "cell_type": "code",
   "execution_count": 123,
   "id": "948e9e24",
   "metadata": {},
   "outputs": [
    {
     "name": "stdout",
     "output_type": "stream",
     "text": [
      "[[0.14 0.86]\n",
      " [0.99 0.01]\n",
      " [0.98 0.02]\n",
      " ...\n",
      " [0.01 0.99]\n",
      " [0.96 0.04]\n",
      " [0.96 0.04]]\n"
     ]
    }
   ],
   "source": [
    "print(y_probs_forest)\n",
    "# So it gives the probabilities as\n",
    "# Not five, five\n",
    "y_scores_forest = y_probs_forest[:, 1]"
   ]
  },
  {
   "cell_type": "code",
   "execution_count": 143,
   "id": "555065f2",
   "metadata": {
    "scrolled": false
   },
   "outputs": [
    {
     "data": {
      "image/png": "[encoded data removed]",
      "text/plain": [
       "<Figure size 640x480 with 1 Axes>"
      ]
     },
     "metadata": {},
     "output_type": "display_data"
    }
   ],
   "source": [
    "# Now lets plot an ROC curve for this too\n",
    "FPR_forest, TPR_forest, THRESHOLD_forest = roc_curve(y_train_5, y_scores_forest)\n",
    "plt.plot(FPR, TPR, 'g-',label= 'SGD')\n",
    "plt.plot(FPR_forest, TPR_forest, 'b-',label='random forest')\n",
    "plt.plot([0,1],[0,1],'k--')\n",
    "plt.legend(loc=\"lower right\")\n",
    "plt.show()"
   ]
  },
  {
   "cell_type": "code",
   "execution_count": 142,
   "id": "3fff7430",
   "metadata": {},
   "outputs": [
    {
     "data": {
      "text/plain": [
       "0.998402186461512"
      ]
     },
     "execution_count": 142,
     "metadata": {},
     "output_type": "execute_result"
    }
   ],
   "source": [
    "roc_auc_score(y_train_5, y_scores_forest) # woahhhh, this seems like overfitting"
   ]
  },
  {
   "cell_type": "markdown",
   "id": "7c42f0c7",
   "metadata": {},
   "source": [
    "# Multi-class Classifiers"
   ]
  },
  {
   "cell_type": "code",
   "execution_count": 144,
   "id": "40491644",
   "metadata": {},
   "outputs": [
    {
     "data": {
      "text/plain": [
       "SGDClassifier(random_state=42)"
      ]
     },
     "execution_count": 144,
     "metadata": {},
     "output_type": "execute_result"
    }
   ],
   "source": [
    "sgd_classifier.fit(X_train, y_train) # One vs All strategy"
   ]
  },
  {
   "cell_type": "code",
   "execution_count": 152,
   "id": "7ad77610",
   "metadata": {},
   "outputs": [
    {
     "name": "stdout",
     "output_type": "stream",
     "text": [
      "[4]\n",
      "4\n"
     ]
    }
   ],
   "source": [
    "print(sgd_classifier.predict([X_train[2]]))\n",
    "print(y_train[2])"
   ]
  },
  {
   "cell_type": "code",
   "execution_count": 156,
   "id": "13ded346",
   "metadata": {},
   "outputs": [
    {
     "name": "stdout",
     "output_type": "stream",
     "text": [
      "[[-34143.40703505 -21942.13780869  -4018.29275037  -2239.19313075\n",
      "      43.09419826 -15058.88052383 -33653.31059893  -8277.80610963\n",
      "   -7460.52016321 -14180.15338984]]\n"
     ]
    }
   ],
   "source": [
    "print(sgd_classifier.decision_function([X_train[2]])) \n",
    "# scores achieved by each of the 10 under the hood binary classifiers"
   ]
  },
  {
   "cell_type": "code",
   "execution_count": 154,
   "id": "dfeedaf6",
   "metadata": {},
   "outputs": [
    {
     "name": "stdout",
     "output_type": "stream",
     "text": [
      "[0 1 2 3 4 5 6 7 8 9]\n"
     ]
    }
   ],
   "source": [
    "print(sgd_classifier.classes_)"
   ]
  },
  {
   "cell_type": "code",
   "execution_count": 157,
   "id": "af3f0863",
   "metadata": {},
   "outputs": [
    {
     "data": {
      "text/plain": [
       "array([5])"
      ]
     },
     "execution_count": 157,
     "metadata": {},
     "output_type": "execute_result"
    }
   ],
   "source": [
    "from sklearn.multiclass import OneVsOneClassifier # One vs One strategy\n",
    "ovo_clf = OneVsOneClassifier(SGDClassifier(random_state=42)) \n",
    "ovo_clf.fit(X_train, y_train)\n",
    "ovo_clf.predict([some_digit]) # Hey the OvsA SGD classifier predicted this wrong"
   ]
  },
  {
   "cell_type": "code",
   "execution_count": 158,
   "id": "c8f2a228",
   "metadata": {},
   "outputs": [
    {
     "data": {
      "text/plain": [
       "array([5])"
      ]
     },
     "execution_count": 158,
     "metadata": {},
     "output_type": "execute_result"
    }
   ],
   "source": [
    "# Random forest classifiers can directly sort data into multiple classes\n",
    "forest_classifier.fit(X_train, y_train)\n",
    "print(forest_classifier.predict([some_digit])) # It sorts 5 correctly toooo"
   ]
  },
  {
   "cell_type": "code",
   "execution_count": 159,
   "id": "8212ce6d",
   "metadata": {
    "scrolled": true
   },
   "outputs": [
    {
     "data": {
      "text/plain": [
       "array([[0.  , 0.  , 0.01, 0.08, 0.  , 0.9 , 0.  , 0.  , 0.  , 0.01]])"
      ]
     },
     "execution_count": 159,
     "metadata": {},
     "output_type": "execute_result"
    }
   ],
   "source": [
    "print(forest_classifier.predict_proba([some_digit]))"
   ]
  },
  {
   "cell_type": "code",
   "execution_count": 160,
   "id": "ec86f4f6",
   "metadata": {},
   "outputs": [
    {
     "data": {
      "text/plain": [
       "array([0.88083333, 0.88325   , 0.88116667, 0.86625   , 0.8875    ])"
      ]
     },
     "execution_count": 160,
     "metadata": {},
     "output_type": "execute_result"
    }
   ],
   "source": [
    "# Now les evaluate them \n",
    "cross_val_score(sgd_classifier, X_train, y_train, cv = 5, scoring='accuracy') # this takes real long to run 5-10mins\n",
    "# cause it's building like 50 classifiers\n",
    "# it's got 88% + accuracy"
   ]
  },
  {
   "cell_type": "code",
   "execution_count": 162,
   "id": "0040015f",
   "metadata": {},
   "outputs": [
    {
     "data": {
      "text/plain": [
       "array([0.96808333, 0.96566667, 0.96541667, 0.962     , 0.97108333])"
      ]
     },
     "execution_count": 162,
     "metadata": {},
     "output_type": "execute_result"
    }
   ],
   "source": [
    "cross_val_score(forest_classifier, X_train, y_train, cv = 5, scoring = 'accuracy')\n",
    "# WOAAAHHHHHHHHHHHHHHHHHHHHHHHHHHHH, nice"
   ]
  },
  {
   "cell_type": "code",
   "execution_count": 163,
   "id": "87d86703",
   "metadata": {},
   "outputs": [],
   "source": [
    "from sklearn.preprocessing import StandardScaler # how do I check distribution in this case ? normal or uniform\n",
    "from sklearn.metrics import confusion_matrix\n",
    "y_train_pred = cross_val_predict(forest_classifier, X_train, y_train, cv = 5)"
   ]
  },
  {
   "cell_type": "code",
   "execution_count": 165,
   "id": "b2fd540c",
   "metadata": {
    "collapsed": true
   },
   "outputs": [
    {
     "data": {
      "text/plain": [
       "array([[5846,    2,    7,    2,    4,    6,   19,    1,   32,    4],\n",
       "       [   1, 6636,   32,   16,   15,    4,    7,   15,   10,    6],\n",
       "       [  24,   11, 5756,   30,   31,    2,   19,   39,   39,    7],\n",
       "       [   8,    6,   84, 5815,    2,   66,    8,   53,   61,   28],\n",
       "       [  12,   12,   11,    0, 5670,    0,   20,   11,   17,   89],\n",
       "       [  25,    7,   11,   58,    9, 5210,   41,    5,   32,   23],\n",
       "       [  25,   11,    1,    0,    8,   33, 5818,    0,   22,    0],\n",
       "       [   4,   22,   64,    6,   41,    1,    1, 6044,   13,   69],\n",
       "       [  11,   28,   35,   52,   26,   49,   25,    6, 5553,   66],\n",
       "       [  24,   11,   16,   80,   70,   18,    4,   51,   36, 5639]])"
      ]
     },
     "execution_count": 165,
     "metadata": {},
     "output_type": "execute_result"
    }
   ],
   "source": [
    "conf_final = confusion_matrix(y_train, y_train_pred)\n",
    "conf_final"
   ]
  },
  {
   "cell_type": "code",
   "execution_count": 168,
   "id": "d413c61c",
   "metadata": {
    "collapsed": true
   },
   "outputs": [
    {
     "data": {
      "image/png": "[encoded data removed]",
      "text/plain": [
       "<Figure size 480x480 with 1 Axes>"
      ]
     },
     "metadata": {},
     "output_type": "display_data"
    }
   ],
   "source": [
    "plt.matshow(conf_final, cmap='gray')\n",
    "plt.show()"
   ]
  },
  {
   "cell_type": "code",
   "execution_count": 170,
   "id": "8c194a69",
   "metadata": {},
   "outputs": [],
   "source": [
    "row_sums = conf_final.sum(axis = 1, keepdims = True)\n",
    "normalised_conf_mx = conf_final/row_sums"
   ]
  },
  {
   "cell_type": "code",
   "execution_count": 171,
   "id": "5bf373c7",
   "metadata": {
    "collapsed": true
   },
   "outputs": [
    {
     "data": {
      "text/plain": [
       "<matplotlib.image.AxesImage at 0x7f8449dd4e80>"
      ]
     },
     "execution_count": 171,
     "metadata": {},
     "output_type": "execute_result"
    },
    {
     "data": {
      "image/png": "[encoded data removed]",
      "text/plain": [
       "<Figure size 480x480 with 1 Axes>"
      ]
     },
     "metadata": {},
     "output_type": "display_data"
    }
   ],
   "source": [
    "plt.matshow(normalised_conf_mx, cmap='gray')"
   ]
  },
  {
   "cell_type": "code",
   "execution_count": 174,
   "id": "bb4e75ad",
   "metadata": {
    "collapsed": true
   },
   "outputs": [
    {
     "data": {
      "image/png": "[encoded data removed]",
      "text/plain": [
       "<Figure size 480x480 with 1 Axes>"
      ]
     },
     "metadata": {},
     "output_type": "display_data"
    }
   ],
   "source": [
    "np.fill_diagonal(normalised_conf_mx, 0)\n",
    "plt.matshow(normalised_conf_mx, cmap='gray')\n",
    "plt.xlabel('Predicted')\n",
    "plt.ylabel('Actual')\n",
    "plt.show()"
   ]
  },
  {
   "cell_type": "code",
   "execution_count": 175,
   "id": "568b24f7",
   "metadata": {},
   "outputs": [],
   "source": [
    "# 8 gets misclassified alot as other digits\n",
    "# but fir bhi like a lot of digits don't get misclassified as 8"
   ]
  },
  {
   "cell_type": "code",
   "execution_count": 178,
   "id": "18b9c679",
   "metadata": {},
   "outputs": [],
   "source": [
    "from sklearn.metrics import classification_report\n",
    "report = classification_report(y_train, y_train_pred)"
   ]
  },
  {
   "cell_type": "code",
   "execution_count": 180,
   "id": "5725703d",
   "metadata": {
    "scrolled": true
   },
   "outputs": [
    {
     "name": "stdout",
     "output_type": "stream",
     "text": [
      "              precision    recall  f1-score   support\n",
      "\n",
      "           0       0.98      0.99      0.98      5923\n",
      "           1       0.98      0.98      0.98      6742\n",
      "           2       0.96      0.97      0.96      5958\n",
      "           3       0.96      0.95      0.95      6131\n",
      "           4       0.96      0.97      0.97      5842\n",
      "           5       0.97      0.96      0.96      5421\n",
      "           6       0.98      0.98      0.98      5918\n",
      "           7       0.97      0.96      0.97      6265\n",
      "           8       0.95      0.95      0.95      5851\n",
      "           9       0.95      0.95      0.95      5949\n",
      "\n",
      "    accuracy                           0.97     60000\n",
      "   macro avg       0.97      0.97      0.97     60000\n",
      "weighted avg       0.97      0.97      0.97     60000\n",
      "\n"
     ]
    }
   ],
   "source": [
    "print(report) # That's pretty good"
   ]
  },
  {
   "cell_type": "code",
   "execution_count": 181,
   "id": "3bc55443",
   "metadata": {},
   "outputs": [
    {
     "data": {
      "text/plain": [
       "KNeighborsClassifier()"
      ]
     },
     "execution_count": 181,
     "metadata": {},
     "output_type": "execute_result"
    }
   ],
   "source": [
    "from sklearn.neighbors import KNeighborsClassifier\n",
    "knn_classifier = KNeighborsClassifier()\n",
    "knn_classifier.fit(X_train, y_train)"
   ]
  },
  {
   "cell_type": "code",
   "execution_count": 184,
   "id": "b6067b29",
   "metadata": {},
   "outputs": [],
   "source": [
    "y_train_knn_pred = knn_classifier.predict(X_train)"
   ]
  },
  {
   "cell_type": "code",
   "execution_count": 185,
   "id": "a8cc7099",
   "metadata": {
    "scrolled": true
   },
   "outputs": [
    {
     "name": "stdout",
     "output_type": "stream",
     "text": [
      "              precision    recall  f1-score   support\n",
      "\n",
      "           0       0.99      0.99      0.99      5923\n",
      "           1       0.97      1.00      0.98      6742\n",
      "           2       0.99      0.98      0.98      5958\n",
      "           3       0.98      0.98      0.98      6131\n",
      "           4       0.99      0.98      0.98      5842\n",
      "           5       0.98      0.98      0.98      5421\n",
      "           6       0.99      0.99      0.99      5918\n",
      "           7       0.98      0.98      0.98      6265\n",
      "           8       0.99      0.96      0.97      5851\n",
      "           9       0.97      0.98      0.97      5949\n",
      "\n",
      "    accuracy                           0.98     60000\n",
      "   macro avg       0.98      0.98      0.98     60000\n",
      "weighted avg       0.98      0.98      0.98     60000\n",
      "\n"
     ]
    }
   ],
   "source": [
    "print(classification_report(y_train, y_train_knn_pred))\n",
    "# better than forest classifier"
   ]
  },
  {
   "cell_type": "code",
   "execution_count": 190,
   "id": "10c0bb80",
   "metadata": {},
   "outputs": [],
   "source": [
    "# now lets try it on the test set\n",
    "knn_classifier.fit(X_train, y_train)\n",
    "knn_pred = knn_classifier.predict(X_test)"
   ]
  },
  {
   "cell_type": "code",
   "execution_count": 191,
   "id": "d952bec3",
   "metadata": {},
   "outputs": [],
   "source": [
    "forest_classifier.fit(X_train, y_train)\n",
    "forest_pred = forest_classifier.predict(X_test)"
   ]
  },
  {
   "cell_type": "code",
   "execution_count": 192,
   "id": "dd15fee0",
   "metadata": {},
   "outputs": [
    {
     "name": "stdout",
     "output_type": "stream",
     "text": [
      "KNN results - \n",
      "              precision    recall  f1-score   support\n",
      "\n",
      "           0       0.96      0.99      0.98       980\n",
      "           1       0.95      1.00      0.98      1135\n",
      "           2       0.98      0.96      0.97      1032\n",
      "           3       0.96      0.97      0.97      1010\n",
      "           4       0.98      0.96      0.97       982\n",
      "           5       0.97      0.97      0.97       892\n",
      "           6       0.98      0.99      0.98       958\n",
      "           7       0.96      0.96      0.96      1028\n",
      "           8       0.99      0.94      0.96       974\n",
      "           9       0.96      0.95      0.95      1009\n",
      "\n",
      "    accuracy                           0.97     10000\n",
      "   macro avg       0.97      0.97      0.97     10000\n",
      "weighted avg       0.97      0.97      0.97     10000\n",
      "\n",
      "Forest predictions\n",
      "              precision    recall  f1-score   support\n",
      "\n",
      "           0       0.97      0.99      0.98       980\n",
      "           1       0.99      0.99      0.99      1135\n",
      "           2       0.96      0.97      0.97      1032\n",
      "           3       0.96      0.96      0.96      1010\n",
      "           4       0.97      0.97      0.97       982\n",
      "           5       0.98      0.96      0.97       892\n",
      "           6       0.98      0.98      0.98       958\n",
      "           7       0.97      0.96      0.97      1028\n",
      "           8       0.96      0.95      0.96       974\n",
      "           9       0.96      0.95      0.96      1009\n",
      "\n",
      "    accuracy                           0.97     10000\n",
      "   macro avg       0.97      0.97      0.97     10000\n",
      "weighted avg       0.97      0.97      0.97     10000\n",
      "\n"
     ]
    }
   ],
   "source": [
    "print('KNN results - ')\n",
    "print(classification_report(y_test, knn_pred))\n",
    "print('Forest predictions')\n",
    "print(classification_report(y_test, forest_pred))"
   ]
  }
 ],
 "metadata": {
  "kernelspec": {
   "display_name": "Python 3",
   "language": "python",
   "name": "python3"
  },
  "language_info": {
   "codemirror_mode": {
    "name": "ipython",
    "version": 3
   },
   "file_extension": ".py",
   "mimetype": "text/x-python",
   "name": "python",
   "nbconvert_exporter": "python",
   "pygments_lexer": "ipython3",
   "version": "3.8.8"
  }
 },
 "nbformat": 4,
 "nbformat_minor": 5
}
