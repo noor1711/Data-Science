{
 "cells": [
  {
   "cell_type": "code",
   "execution_count": 2,
   "metadata": {},
   "outputs": [],
   "source": [
    "import pandas as pd\n",
    "import numpy as np\n",
    "# Please xcoos me inglis"
   ]
  },
  {
   "cell_type": "code",
   "execution_count": 3,
   "metadata": {},
   "outputs": [],
   "source": [
    "life_data = pd.read_csv('Life Expectancy Data.csv')\n",
    "# Link to data =>\n",
    "# https://www.kaggle.com/kumarajarshi/life-expectancy-who\n",
    "# kaggle datasets download -d kumarajarshi/life-expectancy-who\n",
    "# TO-DO: TRY AND MAKE IT ACCESSIBLE STRAIGHT FROM THE URL"
   ]
  },
  {
   "cell_type": "markdown",
   "metadata": {},
   "source": [
    "# Step 1 - Which attributes to select"
   ]
  },
  {
   "cell_type": "code",
   "execution_count": 4,
   "metadata": {},
   "outputs": [
    {
     "name": "stdout",
     "output_type": "stream",
     "text": [
      "Index(['Country', 'Year', 'Status', 'Life expectancy ', 'Adult Mortality',\n",
      "       'infant deaths', 'Alcohol', 'percentage expenditure', 'Hepatitis B',\n",
      "       'Measles ', ' BMI ', 'under-five deaths ', 'Polio', 'Total expenditure',\n",
      "       'Diphtheria ', ' HIV/AIDS', 'GDP', 'Population',\n",
      "       ' thinness  1-19 years', ' thinness 5-9 years',\n",
      "       'Income composition of resources', 'Schooling'],\n",
      "      dtype='object')\n"
     ]
    }
   ],
   "source": [
    "print(life_data.columns)"
   ]
  },
  {
   "cell_type": "code",
   "execution_count": 6,
   "metadata": {},
   "outputs": [],
   "source": [
    "# now it's time to test co-relations and shit\n",
    "co_rel = life_data.corr()"
   ]
  },
  {
   "cell_type": "code",
   "execution_count": 8,
   "metadata": {},
   "outputs": [
    {
     "name": "stdout",
     "output_type": "stream",
     "text": [
      "Life expectancy                    1.000000\n",
      "Schooling                          0.751975\n",
      "Income composition of resources    0.724776\n",
      " BMI                               0.567694\n",
      "Diphtheria                         0.479495\n",
      "Polio                              0.465556\n",
      "GDP                                0.461455\n",
      "Alcohol                            0.404877\n",
      "percentage expenditure             0.381864\n",
      "Hepatitis B                        0.256762\n",
      "Total expenditure                  0.218086\n",
      "Year                               0.170033\n",
      "Population                        -0.021538\n",
      "Measles                           -0.157586\n",
      "infant deaths                     -0.196557\n",
      "under-five deaths                 -0.222529\n",
      " thinness 5-9 years               -0.471584\n",
      " thinness  1-19 years             -0.477183\n",
      " HIV/AIDS                         -0.556556\n",
      "Adult Mortality                   -0.696359\n",
      "Name: Life expectancy , dtype: float64\n"
     ]
    }
   ],
   "source": [
    "print(co_rel['Life expectancy '].sort_values(ascending = False))\n",
    "# There's plenty co-relation tbh"
   ]
  },
  {
   "cell_type": "code",
   "execution_count": 9,
   "metadata": {},
   "outputs": [
    {
     "name": "stdout",
     "output_type": "stream",
     "text": [
      "<class 'pandas.core.frame.DataFrame'>\n",
      "RangeIndex: 2938 entries, 0 to 2937\n",
      "Data columns (total 22 columns):\n",
      " #   Column                           Non-Null Count  Dtype  \n",
      "---  ------                           --------------  -----  \n",
      " 0   Country                          2938 non-null   object \n",
      " 1   Year                             2938 non-null   int64  \n",
      " 2   Status                           2938 non-null   object \n",
      " 3   Life expectancy                  2928 non-null   float64\n",
      " 4   Adult Mortality                  2928 non-null   float64\n",
      " 5   infant deaths                    2938 non-null   int64  \n",
      " 6   Alcohol                          2744 non-null   float64\n",
      " 7   percentage expenditure           2938 non-null   float64\n",
      " 8   Hepatitis B                      2385 non-null   float64\n",
      " 9   Measles                          2938 non-null   int64  \n",
      " 10   BMI                             2904 non-null   float64\n",
      " 11  under-five deaths                2938 non-null   int64  \n",
      " 12  Polio                            2919 non-null   float64\n",
      " 13  Total expenditure                2712 non-null   float64\n",
      " 14  Diphtheria                       2919 non-null   float64\n",
      " 15   HIV/AIDS                        2938 non-null   float64\n",
      " 16  GDP                              2490 non-null   float64\n",
      " 17  Population                       2286 non-null   float64\n",
      " 18   thinness  1-19 years            2904 non-null   float64\n",
      " 19   thinness 5-9 years              2904 non-null   float64\n",
      " 20  Income composition of resources  2771 non-null   float64\n",
      " 21  Schooling                        2775 non-null   float64\n",
      "dtypes: float64(16), int64(4), object(2)\n",
      "memory usage: 505.1+ KB\n",
      "None\n"
     ]
    }
   ],
   "source": [
    "# now let's check the data-types\n",
    "print(life_data.info())\n",
    "# There's just two categorical attributes - Status and Country\n",
    "# Status is just whether the country id developing or developed, so I'm just gonna replace it with 0 and 1\n",
    "# I don't know how to handle data from an attribute like country, can't do one-hot encoding here, cause many country\n",
    "# So I might just use aggregation or something, I dunno\n",
    "\n",
    "# First things first I am dropping the records with empty Life Expectancy\n",
    "# Because this isn't unsupervised learning\n",
    "# There's just 10 of those records so like theek hai\n",
    "life_data.dropna(subset=['Life expectancy '],inplace = True) \n",
    "# yessssssssssssssssssssssssssssssssssssssssssssssSsssssSSsSSssSsssSsSssSss"
   ]
  },
  {
   "cell_type": "code",
   "execution_count": 15,
   "metadata": {},
   "outputs": [],
   "source": [
    "# I am thinking of groupiing the data into categories\n",
    "# HEALTH\n",
    "# SOCIO-ECONOMIC\n",
    "# ECONOMIC\n",
    "# Like measles, Hep B etc can be paired under health\n",
    "# income, GDP, total_expenditure under economic\n",
    "# so like I'm thinking the attributes under these each categories are co-related with each other too\n",
    "# so we can just keep the best ones"
   ]
  },
  {
   "cell_type": "markdown",
   "metadata": {},
   "source": [
    "## Health Attributes"
   ]
  },
  {
   "cell_type": "code",
   "execution_count": 10,
   "metadata": {
    "collapsed": true
   },
   "outputs": [
    {
     "data": {
      "image/png": "[encoded data removed]",
      "text/plain": [
       "<Figure size 432x288 with 2 Axes>"
      ]
     },
     "metadata": {
      "needs_background": "light"
     },
     "output_type": "display_data"
    }
   ],
   "source": [
    "import seaborn as sns  # draws pretty things 🥳\n",
    "health_atribs = ['Adult Mortality','infant deaths', 'Hepatitis B','Measles ', \n",
    "                 ' BMI ', 'under-five deaths ', 'Polio', 'Diphtheria ', ' HIV/AIDS', \n",
    "                ' thinness  1-19 years', ' thinness 5-9 years']\n",
    "# I think of adult mortality as more of a socio-economic factor tbh, will research tho\n",
    "corr = life_data[health_atribs].corr()\n",
    "# TO-DO : find any beautify extensions for jupyter\n",
    "\n",
    "# https://towardsdatascience.com/better-heatmaps-and-correlation-matrix-plots-in-python-41445d0f2bec\n",
    "ax = sns.heatmap(\n",
    "    corr, \n",
    "    vmin=-1, vmax=1, center=0,\n",
    "    cmap=sns.diverging_palette(20, 200, n=20, center = 'light'),\n",
    "    square=True\n",
    ")\n",
    "ax.set_xticklabels(\n",
    "    ax.get_xticklabels(),\n",
    "    rotation=45,\n",
    "    horizontalalignment='right'\n",
    ");\n",
    "\n",
    "# It's beautiful\n",
    "# I've looked at this for 5 hours now"
   ]
  },
  {
   "cell_type": "code",
   "execution_count": 11,
   "metadata": {},
   "outputs": [
    {
     "name": "stdout",
     "output_type": "stream",
     "text": [
      "Life expectancy          1.000000\n",
      " BMI                     0.567694\n",
      "Diphtheria               0.479495\n",
      "Polio                    0.465556\n",
      "Hepatitis B              0.256762\n",
      "Measles                 -0.157586\n",
      "infant deaths           -0.196557\n",
      "under-five deaths       -0.222529\n",
      " thinness 5-9 years     -0.471584\n",
      " thinness  1-19 years   -0.477183\n",
      " HIV/AIDS               -0.556556\n",
      "Adult Mortality         -0.696359\n",
      "Name: Life expectancy , dtype: float64\n"
     ]
    }
   ],
   "source": [
    "co_rel_health = life_data[[*health_atribs, 'Life expectancy ']].corr()\n",
    "print(co_rel_health['Life expectancy '].sort_values(ascending = False))"
   ]
  },
  {
   "cell_type": "code",
   "execution_count": 12,
   "metadata": {
    "scrolled": false
   },
   "outputs": [
    {
     "name": "stdout",
     "output_type": "stream",
     "text": [
      "[[1.         0.99662815]\n",
      " [0.99662815 1.        ]]\n"
     ]
    }
   ],
   "source": [
    "# Under - five deaths and infant deaths are plenty related\n",
    "print(np.corrcoef(life_data['infant deaths'], life_data['under-five deaths ']))\n",
    "# ooooooofffff now that's co - relation\n",
    "# using under-five deaths cause thats better co-related to life expectancy"
   ]
  },
  {
   "cell_type": "code",
   "execution_count": 13,
   "metadata": {},
   "outputs": [
    {
     "name": "stdout",
     "output_type": "stream",
     "text": [
      "<class 'pandas.core.frame.DataFrame'>\n",
      "Int64Index: 2928 entries, 0 to 2937\n",
      "Data columns (total 2 columns):\n",
      " #   Column                 Non-Null Count  Dtype  \n",
      "---  ------                 --------------  -----  \n",
      " 0    thinness  1-19 years  2896 non-null   float64\n",
      " 1    thinness 5-9 years    2896 non-null   float64\n",
      "dtypes: float64(2)\n",
      "memory usage: 68.6 KB\n",
      "[[1.         0.93895266]\n",
      " [0.93895266 1.        ]]\n"
     ]
    }
   ],
   "source": [
    "# ' thinness  1-19 years', ' thinness 5-9 years' are related too\n",
    "life_data[[' thinness  1-19 years', ' thinness 5-9 years']].info()\n",
    "# I am choosing to dropna here cause its only 34 NA records\n",
    "# Will fill them in later tho\n",
    "thin_19 = life_data[' thinness  1-19 years'].dropna()\n",
    "thin_9 = life_data[' thinness 5-9 years'].dropna()\n",
    "print(np.corrcoef(thin_19, thin_9))\n",
    "# yes they sisters"
   ]
  },
  {
   "cell_type": "code",
   "execution_count": 14,
   "metadata": {},
   "outputs": [
    {
     "name": "stdout",
     "output_type": "stream",
     "text": [
      "Adult Mortality         -0.387017\n",
      "infant deaths           -0.227480\n",
      "Hepatitis B              0.155174\n",
      "Measles                 -0.176069\n",
      " BMI                     1.000000\n",
      "under-five deaths       -0.237910\n",
      "Polio                    0.287579\n",
      "Diphtheria               0.286077\n",
      " HIV/AIDS               -0.243735\n",
      " thinness  1-19 years   -0.530805\n",
      " thinness 5-9 years     -0.537784\n",
      "Name:  BMI , dtype: float64\n"
     ]
    }
   ],
   "source": [
    "# BMI seems like a good choice\n",
    "print(corr[' BMI '])\n",
    "# CAN just use this instead of the thiness atribs"
   ]
  },
  {
   "cell_type": "code",
   "execution_count": 15,
   "metadata": {},
   "outputs": [
    {
     "name": "stdout",
     "output_type": "stream",
     "text": [
      "[[1.         0.46476225]\n",
      " [0.46476225 1.        ]]\n",
      "[[1.         0.47046872]\n",
      " [0.47046872 1.        ]]\n"
     ]
    }
   ],
   "source": [
    "# thiness and under - five deaths seem good too\n",
    "median = thin_19.median()\n",
    "thin_19 = life_data[' thinness  1-19 years'].fillna(value = median)\n",
    "median = thin_9.median()\n",
    "thin_9 = life_data[' thinness 5-9 years'].fillna(value = median)\n",
    "print(np.corrcoef(thin_19, life_data['infant deaths']))\n",
    "print(np.corrcoef(thin_9, life_data['infant deaths']))\n",
    "\n",
    "# it's good co-relation, atleast i think so\n",
    "# ASK: WHAT CO-RELATION IS GOOD CO-RELATION ?"
   ]
  },
  {
   "cell_type": "code",
   "execution_count": 16,
   "metadata": {},
   "outputs": [
    {
     "name": "stdout",
     "output_type": "stream",
     "text": [
      "             Hepatitis B  Measles      Polio  Diphtheria    HIV/AIDS\n",
      "Hepatitis B     1.000000 -0.121211  0.483989     0.610199  -0.113395\n",
      "Measles        -0.121211  1.000000 -0.136460    -0.142174   0.030673\n",
      "Polio           0.483989 -0.136460  1.000000     0.672130  -0.159914\n",
      "Diphtheria      0.610199 -0.142174  0.672130     1.000000  -0.165208\n",
      " HIV/AIDS      -0.113395  0.030673 -0.159914    -0.165208   1.000000\n"
     ]
    },
    {
     "data": {
      "image/png": "[encoded data removed]",
      "text/plain": [
       "<Figure size 432x288 with 2 Axes>"
      ]
     },
     "metadata": {
      "needs_background": "light"
     },
     "output_type": "display_data"
    }
   ],
   "source": [
    "diseases = ['Hepatitis B','Measles ', 'Polio', 'Diphtheria ', ' HIV/AIDS']\n",
    "\n",
    "dis_corr = life_data[diseases].corr()\n",
    "print(dis_corr)\n",
    "# mazikkk 🪄\n",
    "ax = sns.heatmap( \n",
    "    dis_corr, \n",
    "    vmin=-1, vmax=1, center=0,\n",
    "    cmap=sns.diverging_palette(20, 200, n=20, center = 'light'),\n",
    "    square=True\n",
    ")\n",
    "ax.set_xticklabels(\n",
    "    ax.get_xticklabels(),\n",
    "    rotation=45,\n",
    "    horizontalalignment='right'\n",
    ");\n",
    "\n",
    "# Diptheria is the best\n",
    "# Polio and Measles both vibe with it\n",
    "# And it's got the highest co-relation with Life-Expectancy\n",
    "# can drop measles\n",
    "# keeping HIV/AIDS since it's good with life expectancy we will keep it, bet no one ever said that\n",
    "# ASK: CAN'T WE JUST APPLY PCA ?😭\n",
    "# THIS IS TAKING TOO LONG 😭 Thats what she said 😭"
   ]
  },
  {
   "cell_type": "code",
   "execution_count": 56,
   "metadata": {},
   "outputs": [],
   "source": [
    "# So from health we are keeping \n",
    "# Adult Mortality\n",
    "# BMI\n",
    "# HIV/AIDS\n",
    "# Diptheria\n",
    "# Under-five-deaths\n",
    "# In decreasing order of importance\n",
    "selected_health_atribs = ['Adult Mortality', ' BMI ','Diphtheria ', ' HIV/AIDS', ]"
   ]
  },
  {
   "cell_type": "markdown",
   "metadata": {},
   "source": [
    "## Socio-Economic"
   ]
  },
  {
   "cell_type": "code",
   "execution_count": 31,
   "metadata": {
    "collapsed": true
   },
   "outputs": [
    {
     "name": "stdout",
     "output_type": "stream",
     "text": [
      "0    2416\n",
      "1     512\n",
      "Name: Status, dtype: int64\n",
      "2928\n",
      "[[1.         0.48213613]\n",
      " [0.48213613 1.        ]]\n"
     ]
    }
   ],
   "source": [
    "socio_atribs = ['Year', 'Status', 'Life expectancy ','Alcohol', 'Income composition of resources', 'Schooling']\n",
    "# ASK: HOW TO FIND CO-RELATION WITH CATEGORICAL ATTRIBUTES ?\n",
    "# AGGREGATION OR SOMETHING ?\n",
    "print(life_data['Status'].value_counts()) # most countries are developing duhhh\n",
    "life_data.Status.fillna(value = 'Developing') # Sorta like filling in with the median\n",
    "life_data['Status'].replace({'Developing':0, 'Developed': 1}, inplace = True)\n",
    "print(len(life_data))\n",
    "print(np.corrcoef(life_data['Status'], life_data['Life expectancy '])) # GOOD CO-RELATION"
   ]
  },
  {
   "cell_type": "code",
   "execution_count": 17,
   "metadata": {},
   "outputs": [
    {
     "ename": "NameError",
     "evalue": "name 'socio_atribs' is not defined",
     "output_type": "error",
     "traceback": [
      "\u001b[0;31m---------------------------------------------------------------------------\u001b[0m",
      "\u001b[0;31mNameError\u001b[0m                                 Traceback (most recent call last)",
      "\u001b[0;32m<ipython-input-17-9a8dd7488f5f>\u001b[0m in \u001b[0;36m<module>\u001b[0;34m\u001b[0m\n\u001b[0;32m----> 1\u001b[0;31m \u001b[0msocio_corr\u001b[0m \u001b[0;34m=\u001b[0m \u001b[0mlife_data\u001b[0m\u001b[0;34m[\u001b[0m\u001b[0msocio_atribs\u001b[0m\u001b[0;34m]\u001b[0m\u001b[0;34m.\u001b[0m\u001b[0mcorr\u001b[0m\u001b[0;34m(\u001b[0m\u001b[0;34m)\u001b[0m\u001b[0;34m\u001b[0m\u001b[0;34m\u001b[0m\u001b[0m\n\u001b[0m\u001b[1;32m      2\u001b[0m \u001b[0;31m# mazikkk 🪄\u001b[0m\u001b[0;34m\u001b[0m\u001b[0;34m\u001b[0m\u001b[0;34m\u001b[0m\u001b[0m\n\u001b[1;32m      3\u001b[0m ax = sns.heatmap( \n\u001b[1;32m      4\u001b[0m     \u001b[0msocio_corr\u001b[0m\u001b[0;34m,\u001b[0m\u001b[0;34m\u001b[0m\u001b[0;34m\u001b[0m\u001b[0m\n\u001b[1;32m      5\u001b[0m     \u001b[0mvmin\u001b[0m\u001b[0;34m=\u001b[0m\u001b[0;34m-\u001b[0m\u001b[0;36m1\u001b[0m\u001b[0;34m,\u001b[0m \u001b[0mvmax\u001b[0m\u001b[0;34m=\u001b[0m\u001b[0;36m1\u001b[0m\u001b[0;34m,\u001b[0m \u001b[0mcenter\u001b[0m\u001b[0;34m=\u001b[0m\u001b[0;36m0\u001b[0m\u001b[0;34m,\u001b[0m\u001b[0;34m\u001b[0m\u001b[0;34m\u001b[0m\u001b[0m\n",
      "\u001b[0;31mNameError\u001b[0m: name 'socio_atribs' is not defined"
     ]
    }
   ],
   "source": [
    "socio_corr = life_data[socio_atribs].corr()\n",
    "# mazikkk 🪄\n",
    "ax = sns.heatmap( \n",
    "    socio_corr, \n",
    "    vmin=-1, vmax=1, center=0,\n",
    "    cmap=sns.diverging_palette(20, 200, n=20, center = 'light'),\n",
    "    square=True\n",
    ")\n",
    "ax.set_xticklabels(\n",
    "    ax.get_xticklabels(),\n",
    "    rotation=45,\n",
    "    horizontalalignment='right'\n",
    ");\n",
    "# sweet the co-relations are pretty good here"
   ]
  },
  {
   "cell_type": "code",
   "execution_count": 19,
   "metadata": {
    "collapsed": true
   },
   "outputs": [
    {
     "name": "stdout",
     "output_type": "stream",
     "text": [
      "Life expectancy                    1.000000\n",
      "Schooling                          0.751975\n",
      "Income composition of resources    0.724776\n",
      "Status                             0.482136\n",
      "Alcohol                            0.404877\n",
      "percentage expenditure             0.381864\n",
      "Total expenditure                  0.218086\n",
      "Year                               0.170033\n",
      "Name: Life expectancy , dtype: float64\n"
     ]
    }
   ],
   "source": [
    "print(socio_corr['Life expectancy '].sort_values(ascending= False))"
   ]
  },
  {
   "cell_type": "code",
   "execution_count": 23,
   "metadata": {
    "scrolled": true
   },
   "outputs": [
    {
     "name": "stdout",
     "output_type": "stream",
     "text": [
      "[[1.         0.79981655]\n",
      " [0.79981655 1.        ]]\n"
     ]
    }
   ],
   "source": [
    "life_data.Schooling.describe() # I guess it describes the years of schooling a person recieved\n",
    "schooling = life_data.Schooling.fillna(value = life_data.Schooling.median())\n",
    "income_comp = life_data['Income composition of resources'].fillna(value= life_data['Income composition of resources'].median())\n",
    "print(np.corrcoef(schooling, income_comp))\n",
    "# It's a pretty awesome co-rel, but they are both pretty important on their own\n",
    "# So not dumping any of them yet"
   ]
  },
  {
   "cell_type": "code",
   "execution_count": 25,
   "metadata": {
    "collapsed": true
   },
   "outputs": [
    {
     "data": {
      "text/plain": [
       "Schooling                          1.000000\n",
       "Income composition of resources    0.800046\n",
       "Life expectancy                    0.751975\n",
       "Alcohol                            0.548001\n",
       "Status                             0.515827\n",
       "percentage expenditure             0.391466\n",
       "Total expenditure                  0.262511\n",
       "Year                               0.213265\n",
       "Name: Schooling, dtype: float64"
      ]
     },
     "execution_count": 25,
     "metadata": {},
     "output_type": "execute_result"
    }
   ],
   "source": [
    "socio_corr['Schooling'].sort_values(ascending= False) # can't dump anything"
   ]
  },
  {
   "cell_type": "code",
   "execution_count": 26,
   "metadata": {
    "collapsed": true
   },
   "outputs": [
    {
     "data": {
      "text/plain": [
       "Alcohol                            1.000000\n",
       "Status                             0.596724\n",
       "Schooling                          0.548001\n",
       "Income composition of resources    0.450254\n",
       "Life expectancy                    0.404877\n",
       "percentage expenditure             0.341112\n",
       "Total expenditure                  0.302902\n",
       "Year                              -0.049175\n",
       "Name: Alcohol, dtype: float64"
      ]
     },
     "execution_count": 26,
     "metadata": {},
     "output_type": "execute_result"
    }
   ],
   "source": [
    "socio_corr['Alcohol'].sort_values(ascending= False)\n",
    "# Alcohol and status seem plenty related so we gonna use Status as it's better related to life expectancy"
   ]
  },
  {
   "cell_type": "code",
   "execution_count": 58,
   "metadata": {},
   "outputs": [],
   "source": [
    "# Socio-Economic attributes we are considering\n",
    "# Schooling\n",
    "# Income composition of resources\n",
    "# Status\n",
    "selected_socio_atribs = ['Schooling', 'Income composition of resources', 'Status']"
   ]
  },
  {
   "cell_type": "markdown",
   "metadata": {},
   "source": [
    "## Economic attributes"
   ]
  },
  {
   "cell_type": "code",
   "execution_count": 38,
   "metadata": {},
   "outputs": [],
   "source": [
    "eco_atribs = list(set(life_data.columns) - set(socio_atribs) - set(health_atribs)) + ['Life expectancy ']"
   ]
  },
  {
   "cell_type": "code",
   "execution_count": 39,
   "metadata": {
    "collapsed": true
   },
   "outputs": [
    {
     "data": {
      "text/plain": [
       "['GDP',\n",
       " 'Total expenditure',\n",
       " 'Country',\n",
       " 'percentage expenditure',\n",
       " 'Population',\n",
       " 'Life expectancy ']"
      ]
     },
     "execution_count": 39,
     "metadata": {},
     "output_type": "execute_result"
    }
   ],
   "source": [
    "eco_atribs"
   ]
  },
  {
   "cell_type": "code",
   "execution_count": 44,
   "metadata": {
    "collapsed": true
   },
   "outputs": [
    {
     "name": "stdout",
     "output_type": "stream",
     "text": [
      "Life expectancy           1.000000\n",
      "GDP                       0.461455\n",
      "percentage expenditure    0.381864\n",
      "Total expenditure         0.218086\n",
      "Population               -0.021538\n",
      "Name: Life expectancy , dtype: float64\n"
     ]
    },
    {
     "data": {
      "image/png": "[encoded data removed]",
      "text/plain": [
       "<Figure size 432x288 with 2 Axes>"
      ]
     },
     "metadata": {
      "needs_background": "light"
     },
     "output_type": "display_data"
    }
   ],
   "source": [
    "eco_corr = life_data[eco_atribs].corr()\n",
    "print(eco_corr['Life expectancy '].sort_values(ascending = False)) # calculates co-relation for just numerical attributes\n",
    "ax = sns.heatmap( \n",
    "    eco_corr, \n",
    "    vmin=-1, vmax=1, center=0,\n",
    "    cmap=sns.diverging_palette(20, 200, n=20, center = 'light'),\n",
    "    square=True\n",
    ")\n",
    "ax.set_xticklabels(\n",
    "    ax.get_xticklabels(),\n",
    "    rotation=45,\n",
    "    horizontalalignment='right'\n",
    ");\n",
    "# And I am choosing percentage expenditure since its better related to life expectancy"
   ]
  },
  {
   "cell_type": "code",
   "execution_count": 47,
   "metadata": {
    "collapsed": true
   },
   "outputs": [
    {
     "name": "stdout",
     "output_type": "stream",
     "text": [
      "[[1.         0.90180324]\n",
      " [0.90180324 1.        ]]\n"
     ]
    }
   ],
   "source": [
    "gdp = life_data['GDP'].fillna(value = life_data['GDP'].median())\n",
    "percent_expend = life_data['percentage expenditure'].fillna(value = life_data['percentage expenditure'].median())\n",
    "print(np.corrcoef(gdp, percent_expend))\n",
    "# Jus use GDP"
   ]
  },
  {
   "cell_type": "code",
   "execution_count": 50,
   "metadata": {
    "collapsed": true
   },
   "outputs": [
    {
     "name": "stdout",
     "output_type": "stream",
     "text": [
      "[[1.         0.11370293]\n",
      " [0.11370293 1.        ]]\n"
     ]
    }
   ],
   "source": [
    "total_expend = life_data['Total expenditure'].fillna(value = life_data['Total expenditure'].median())\n",
    "# Jupyter is kinda ugly tbh\n",
    "print(np.corrcoef(gdp, total_expend)) # heh thats smol 🙃\n",
    "# so we gonna drop total_expend\n",
    "# and population since it's co-relation is pretty weak\n",
    "# also I don't know how to handle the country categorical attribute yet\n",
    "# So I am not gonna use it\n",
    "# GDP is a pretty good indicator of a country, so like po-ta-to po-tah-to"
   ]
  },
  {
   "cell_type": "code",
   "execution_count": 59,
   "metadata": {},
   "outputs": [],
   "source": [
    "# Toh abi Economic attributes that we are keeping are :\n",
    "# GDP\n",
    "# Percent expenditure\n",
    "selected_eco_atribs = ['GDP', 'percentage expenditure']"
   ]
  },
  {
   "cell_type": "code",
   "execution_count": 62,
   "metadata": {},
   "outputs": [],
   "source": [
    "selected_features = selected_socio_atribs + selected_eco_atribs + selected_health_atribs"
   ]
  },
  {
   "cell_type": "code",
   "execution_count": 64,
   "metadata": {
    "collapsed": true
   },
   "outputs": [
    {
     "name": "stdout",
     "output_type": "stream",
     "text": [
      "10\n"
     ]
    },
    {
     "data": {
      "text/plain": [
       "['Schooling',\n",
       " 'Income composition of resources',\n",
       " 'Status',\n",
       " 'GDP',\n",
       " 'percentage expenditure',\n",
       " 'Adult Mortality',\n",
       " ' BMI ',\n",
       " 'under-five deaths ',\n",
       " 'Diphtheria ',\n",
       " ' HIV/AIDS']"
      ]
     },
     "execution_count": 64,
     "metadata": {},
     "output_type": "execute_result"
    }
   ],
   "source": [
    "print(len(selected_features)) # 10 is a good number\n",
    "selected_features"
   ]
  },
  {
   "cell_type": "code",
   "execution_count": 69,
   "metadata": {
    "collapsed": true
   },
   "outputs": [
    {
     "name": "stdout",
     "output_type": "stream",
     "text": [
      "Life expectancy                    1.000000\n",
      "Schooling                          0.751975\n",
      "Income composition of resources    0.724776\n",
      " BMI                               0.567694\n",
      "Status                             0.482136\n",
      "Diphtheria                         0.479495\n",
      "GDP                                0.461455\n",
      "percentage expenditure             0.381864\n",
      "under-five deaths                 -0.222529\n",
      " HIV/AIDS                         -0.556556\n",
      "Adult Mortality                   -0.696359\n",
      "Name: Life expectancy , dtype: float64\n"
     ]
    }
   ],
   "source": [
    "final_corr = life_data[[*selected_features, 'Life expectancy ']].corr() \n",
    "# I hate how columns are spelled in this dataset\n",
    "print(final_corr['Life expectancy '].sort_values(ascending = False))"
   ]
  },
  {
   "cell_type": "markdown",
   "metadata": {},
   "source": [
    "# Preprocessing"
   ]
  },
  {
   "cell_type": "code",
   "execution_count": 78,
   "metadata": {},
   "outputs": [],
   "source": [
    "selected_data = life_data[[*selected_features, 'Life expectancy ']]"
   ]
  },
  {
   "cell_type": "code",
   "execution_count": 79,
   "metadata": {},
   "outputs": [],
   "source": [
    "# we gotta split our things, thats what she said🥲\n",
    "# do it first to prevent any bias\n",
    "from sklearn.model_selection import train_test_split\n",
    "train_set, test_set = train_test_split(selected_data, test_size = 0.2, random_state = 1)"
   ]
  },
  {
   "cell_type": "code",
   "execution_count": 80,
   "metadata": {
    "collapsed": true
   },
   "outputs": [
    {
     "data": {
      "text/plain": [
       "Index(['Schooling', 'Income composition of resources', 'Status', 'GDP',\n",
       "       'percentage expenditure', 'Adult Mortality', ' BMI ',\n",
       "       'under-five deaths ', 'Diphtheria ', ' HIV/AIDS', 'Life expectancy '],\n",
       "      dtype='object')"
      ]
     },
     "execution_count": 80,
     "metadata": {},
     "output_type": "execute_result"
    }
   ],
   "source": [
    "train_set.columns"
   ]
  },
  {
   "cell_type": "code",
   "execution_count": 82,
   "metadata": {
    "collapsed": true
   },
   "outputs": [
    {
     "data": {
      "text/plain": [
       "count    2342.000000\n",
       "mean       69.262724\n",
       "std         9.551600\n",
       "min        36.300000\n",
       "25%        63.100000\n",
       "50%        72.100000\n",
       "75%        75.700000\n",
       "max        89.000000\n",
       "Name: Life expectancy , dtype: float64"
      ]
     },
     "execution_count": 82,
     "metadata": {},
     "output_type": "execute_result"
    }
   ],
   "source": [
    "train_set['Life expectancy '].describe()"
   ]
  },
  {
   "cell_type": "code",
   "execution_count": 84,
   "metadata": {},
   "outputs": [],
   "source": [
    "life = train_set.drop(['Life expectancy '], axis = 1)\n",
    "life_labels = train_set['Life expectancy ']"
   ]
  },
  {
   "cell_type": "code",
   "execution_count": 85,
   "metadata": {
    "collapsed": true
   },
   "outputs": [
    {
     "name": "stdout",
     "output_type": "stream",
     "text": [
      "<class 'pandas.core.frame.DataFrame'>\n",
      "Int64Index: 2342 entries, 1131 to 1063\n",
      "Data columns (total 10 columns):\n",
      " #   Column                           Non-Null Count  Dtype  \n",
      "---  ------                           --------------  -----  \n",
      " 0   Schooling                        2212 non-null   float64\n",
      " 1   Income composition of resources  2212 non-null   float64\n",
      " 2   Status                           2342 non-null   int64  \n",
      " 3   GDP                              1989 non-null   float64\n",
      " 4   percentage expenditure           2342 non-null   float64\n",
      " 5   Adult Mortality                  2342 non-null   float64\n",
      " 6    BMI                             2315 non-null   float64\n",
      " 7   under-five deaths                2342 non-null   int64  \n",
      " 8   Diphtheria                       2326 non-null   float64\n",
      " 9    HIV/AIDS                        2342 non-null   float64\n",
      "dtypes: float64(8), int64(2)\n",
      "memory usage: 201.3 KB\n"
     ]
    }
   ],
   "source": [
    "life.info()"
   ]
  },
  {
   "cell_type": "code",
   "execution_count": 86,
   "metadata": {},
   "outputs": [],
   "source": [
    "# gotta get rid of NA's first\n",
    "# I am just gonna fill them in with the median\n",
    "# If there's something wrong with it please tell me about it\n",
    "def fill_with_median(df): # assuming all attributes of the dataframe are numerical\n",
    "    for column in df:\n",
    "        median = df[column].median()\n",
    "        df[column].fillna(value = median, inplace = True)\n",
    "    return df"
   ]
  },
  {
   "cell_type": "code",
   "execution_count": 87,
   "metadata": {},
   "outputs": [],
   "source": [
    "fill_with_median(life)"
   ]
  },
  {
   "cell_type": "code",
   "execution_count": 89,
   "metadata": {
    "collapsed": true
   },
   "outputs": [
    {
     "name": "stdout",
     "output_type": "stream",
     "text": [
      "<class 'pandas.core.frame.DataFrame'>\n",
      "Int64Index: 2342 entries, 1131 to 1063\n",
      "Data columns (total 10 columns):\n",
      " #   Column                           Non-Null Count  Dtype  \n",
      "---  ------                           --------------  -----  \n",
      " 0   Schooling                        2342 non-null   float64\n",
      " 1   Income composition of resources  2342 non-null   float64\n",
      " 2   Status                           2342 non-null   int64  \n",
      " 3   GDP                              2342 non-null   float64\n",
      " 4   percentage expenditure           2342 non-null   float64\n",
      " 5   Adult Mortality                  2342 non-null   float64\n",
      " 6    BMI                             2342 non-null   float64\n",
      " 7   under-five deaths                2342 non-null   int64  \n",
      " 8   Diphtheria                       2342 non-null   float64\n",
      " 9    HIV/AIDS                        2342 non-null   float64\n",
      "dtypes: float64(8), int64(2)\n",
      "memory usage: 201.3 KB\n"
     ]
    }
   ],
   "source": [
    "life.info()\n",
    "# All filled up "
   ]
  },
  {
   "cell_type": "code",
   "execution_count": 91,
   "metadata": {
    "collapsed": true
   },
   "outputs": [
    {
     "data": {
      "text/plain": [
       "array([[<AxesSubplot:title={'center':'Schooling'}>,\n",
       "        <AxesSubplot:title={'center':'Income composition of resources'}>,\n",
       "        <AxesSubplot:title={'center':'Status'}>],\n",
       "       [<AxesSubplot:title={'center':'GDP'}>,\n",
       "        <AxesSubplot:title={'center':'percentage expenditure'}>,\n",
       "        <AxesSubplot:title={'center':'Adult Mortality'}>],\n",
       "       [<AxesSubplot:title={'center':' BMI '}>,\n",
       "        <AxesSubplot:title={'center':'under-five deaths '}>,\n",
       "        <AxesSubplot:title={'center':'Diphtheria '}>],\n",
       "       [<AxesSubplot:title={'center':' HIV/AIDS'}>, <AxesSubplot:>,\n",
       "        <AxesSubplot:>]], dtype=object)"
      ]
     },
     "execution_count": 91,
     "metadata": {},
     "output_type": "execute_result"
    },
    {
     "data": {
      "image/png": "[encoded data removed]",
      "text/plain": [
       "<Figure size 1440x1440 with 12 Axes>"
      ]
     },
     "metadata": {
      "needs_background": "light"
     },
     "output_type": "display_data"
    }
   ],
   "source": [
    "# now we gotta standardise them\n",
    "# Find the normal distributions\n",
    "life.hist(figsize=(20,20))\n"
   ]
  },
  {
   "cell_type": "code",
   "execution_count": 118,
   "metadata": {
    "scrolled": true
   },
   "outputs": [],
   "source": [
    "def standardise(df):\n",
    "    std = df.std()\n",
    "    mean = df.mean()\n",
    "    return (df - mean) / std\n",
    "\n",
    "def normalise(df):\n",
    "    min_df = df.min()\n",
    "    max_df = df.max()\n",
    "    return (df - min_df)/(max_df - min_df)\n",
    "\n",
    "def scale(data, normal_dist, not_normal): # This is not really general\n",
    "    for column in normal_dist:\n",
    "        data[column] = standardise(data[column])\n",
    "        data[column] = normalise(data[column])\n",
    "    for column in not_normal:\n",
    "        data[column] = normalise(data[column])\n",
    "    return data"
   ]
  },
  {
   "cell_type": "code",
   "execution_count": 121,
   "metadata": {},
   "outputs": [],
   "source": [
    "normal_dist = ['Schooling', 'Income composition of resources', 'Adult Mortality']\n",
    "not_normal = list(set(selected_features) - set(normal_dist))\n",
    "life_prepared = scale(life, normal_dist, not_normal)"
   ]
  },
  {
   "cell_type": "code",
   "execution_count": 122,
   "metadata": {
    "collapsed": true
   },
   "outputs": [
    {
     "data": {
      "text/html": [
       "<div>\n",
       "<style scoped>\n",
       "    .dataframe tbody tr th:only-of-type {\n",
       "        vertical-align: middle;\n",
       "    }\n",
       "\n",
       "    .dataframe tbody tr th {\n",
       "        vertical-align: top;\n",
       "    }\n",
       "\n",
       "    .dataframe thead th {\n",
       "        text-align: right;\n",
       "    }\n",
       "</style>\n",
       "<table border=\"1\" class=\"dataframe\">\n",
       "  <thead>\n",
       "    <tr style=\"text-align: right;\">\n",
       "      <th></th>\n",
       "      <th>Schooling</th>\n",
       "      <th>Income composition of resources</th>\n",
       "      <th>Status</th>\n",
       "      <th>GDP</th>\n",
       "      <th>percentage expenditure</th>\n",
       "      <th>Adult Mortality</th>\n",
       "      <th>BMI</th>\n",
       "      <th>under-five deaths</th>\n",
       "      <th>Diphtheria</th>\n",
       "      <th>HIV/AIDS</th>\n",
       "    </tr>\n",
       "  </thead>\n",
       "  <tbody>\n",
       "    <tr>\n",
       "      <th>count</th>\n",
       "      <td>2342.000000</td>\n",
       "      <td>2342.000000</td>\n",
       "      <td>2342.000000</td>\n",
       "      <td>2342.000000</td>\n",
       "      <td>2342.000000</td>\n",
       "      <td>2342.000000</td>\n",
       "      <td>2342.000000</td>\n",
       "      <td>2342.000000</td>\n",
       "      <td>2342.000000</td>\n",
       "      <td>2342.000000</td>\n",
       "    </tr>\n",
       "    <tr>\n",
       "      <th>mean</th>\n",
       "      <td>0.580030</td>\n",
       "      <td>0.664710</td>\n",
       "      <td>0.175491</td>\n",
       "      <td>0.058596</td>\n",
       "      <td>0.038300</td>\n",
       "      <td>0.225878</td>\n",
       "      <td>0.487747</td>\n",
       "      <td>0.016225</td>\n",
       "      <td>0.828030</td>\n",
       "      <td>0.032712</td>\n",
       "    </tr>\n",
       "    <tr>\n",
       "      <th>std</th>\n",
       "      <td>0.158009</td>\n",
       "      <td>0.216500</td>\n",
       "      <td>0.380468</td>\n",
       "      <td>0.114823</td>\n",
       "      <td>0.099931</td>\n",
       "      <td>0.172967</td>\n",
       "      <td>0.258405</td>\n",
       "      <td>0.061623</td>\n",
       "      <td>0.243957</td>\n",
       "      <td>0.100331</td>\n",
       "    </tr>\n",
       "    <tr>\n",
       "      <th>min</th>\n",
       "      <td>0.000000</td>\n",
       "      <td>0.000000</td>\n",
       "      <td>0.000000</td>\n",
       "      <td>0.000000</td>\n",
       "      <td>0.000000</td>\n",
       "      <td>0.000000</td>\n",
       "      <td>0.000000</td>\n",
       "      <td>0.000000</td>\n",
       "      <td>0.000000</td>\n",
       "      <td>0.000000</td>\n",
       "    </tr>\n",
       "    <tr>\n",
       "      <th>25%</th>\n",
       "      <td>0.497585</td>\n",
       "      <td>0.529800</td>\n",
       "      <td>0.000000</td>\n",
       "      <td>0.004949</td>\n",
       "      <td>0.000241</td>\n",
       "      <td>0.101108</td>\n",
       "      <td>0.241514</td>\n",
       "      <td>0.000000</td>\n",
       "      <td>0.783505</td>\n",
       "      <td>0.000000</td>\n",
       "    </tr>\n",
       "    <tr>\n",
       "      <th>50%</th>\n",
       "      <td>0.594203</td>\n",
       "      <td>0.714135</td>\n",
       "      <td>0.000000</td>\n",
       "      <td>0.015462</td>\n",
       "      <td>0.003278</td>\n",
       "      <td>0.195291</td>\n",
       "      <td>0.552219</td>\n",
       "      <td>0.001600</td>\n",
       "      <td>0.938144</td>\n",
       "      <td>0.000000</td>\n",
       "    </tr>\n",
       "    <tr>\n",
       "      <th>75%</th>\n",
       "      <td>0.684783</td>\n",
       "      <td>0.816456</td>\n",
       "      <td>0.000000</td>\n",
       "      <td>0.042959</td>\n",
       "      <td>0.023465</td>\n",
       "      <td>0.311634</td>\n",
       "      <td>0.718016</td>\n",
       "      <td>0.010800</td>\n",
       "      <td>0.979381</td>\n",
       "      <td>0.013861</td>\n",
       "    </tr>\n",
       "    <tr>\n",
       "      <th>max</th>\n",
       "      <td>1.000000</td>\n",
       "      <td>1.000000</td>\n",
       "      <td>1.000000</td>\n",
       "      <td>1.000000</td>\n",
       "      <td>1.000000</td>\n",
       "      <td>1.000000</td>\n",
       "      <td>1.000000</td>\n",
       "      <td>1.000000</td>\n",
       "      <td>1.000000</td>\n",
       "      <td>1.000000</td>\n",
       "    </tr>\n",
       "  </tbody>\n",
       "</table>\n",
       "</div>"
      ],
      "text/plain": [
       "         Schooling  Income composition of resources       Status          GDP  \\\n",
       "count  2342.000000                      2342.000000  2342.000000  2342.000000   \n",
       "mean      0.580030                         0.664710     0.175491     0.058596   \n",
       "std       0.158009                         0.216500     0.380468     0.114823   \n",
       "min       0.000000                         0.000000     0.000000     0.000000   \n",
       "25%       0.497585                         0.529800     0.000000     0.004949   \n",
       "50%       0.594203                         0.714135     0.000000     0.015462   \n",
       "75%       0.684783                         0.816456     0.000000     0.042959   \n",
       "max       1.000000                         1.000000     1.000000     1.000000   \n",
       "\n",
       "       percentage expenditure  Adult Mortality         BMI   \\\n",
       "count             2342.000000      2342.000000  2342.000000   \n",
       "mean                 0.038300         0.225878     0.487747   \n",
       "std                  0.099931         0.172967     0.258405   \n",
       "min                  0.000000         0.000000     0.000000   \n",
       "25%                  0.000241         0.101108     0.241514   \n",
       "50%                  0.003278         0.195291     0.552219   \n",
       "75%                  0.023465         0.311634     0.718016   \n",
       "max                  1.000000         1.000000     1.000000   \n",
       "\n",
       "       under-five deaths   Diphtheria      HIV/AIDS  \n",
       "count         2342.000000  2342.000000  2342.000000  \n",
       "mean             0.016225     0.828030     0.032712  \n",
       "std              0.061623     0.243957     0.100331  \n",
       "min              0.000000     0.000000     0.000000  \n",
       "25%              0.000000     0.783505     0.000000  \n",
       "50%              0.001600     0.938144     0.000000  \n",
       "75%              0.010800     0.979381     0.013861  \n",
       "max              1.000000     1.000000     1.000000  "
      ]
     },
     "execution_count": 122,
     "metadata": {},
     "output_type": "execute_result"
    }
   ],
   "source": [
    "life_prepared.describe()\n",
    "# Hey how doo we combine standard scaled and normalised data\n",
    "# So, what i figured is that we can just normalise the standardised data cause it's just scaling down right"
   ]
  },
  {
   "cell_type": "markdown",
   "metadata": {},
   "source": [
    "# Linear Regression"
   ]
  },
  {
   "cell_type": "code",
   "execution_count": 123,
   "metadata": {},
   "outputs": [
    {
     "data": {
      "text/plain": [
       "LinearRegression()"
      ]
     },
     "execution_count": 123,
     "metadata": {},
     "output_type": "execute_result"
    }
   ],
   "source": [
    "# So now we gotta do linear regression I guess\n",
    "# training a linear regression model\n",
    "# I'm not trying to implement one manually, I could tho if it matters\n",
    "from sklearn.linear_model import LinearRegression\n",
    "lin_reg_model = LinearRegression()\n",
    "lin_reg_model.fit(life_prepared, life_labels)"
   ]
  },
  {
   "cell_type": "code",
   "execution_count": 128,
   "metadata": {},
   "outputs": [],
   "source": [
    "# Now we gotta test our model\n",
    "# Please be good \n",
    "test_data, test_labels = test_set.drop(['Life expectancy '], axis = 1), test_set['Life expectancy ']\n",
    "fill_with_median(test_data)\n",
    "test_prepared = scale(test_data, normal_dist, not_normal)\n",
    "predicted_labels = lin_reg_model.predict(test_prepared)"
   ]
  },
  {
   "cell_type": "code",
   "execution_count": 133,
   "metadata": {},
   "outputs": [
    {
     "name": "stdout",
     "output_type": "stream",
     "text": [
      "The root mean squared error is :-\n",
      "4.211138565139876\n"
     ]
    }
   ],
   "source": [
    "# The mean squared error is :-\n",
    "print('The root mean squared error is :-')\n",
    "print((np.sum((predicted_labels - test_labels)**2)/len(test_labels))**0.5)\n",
    "# It's pretty good for a first model I guess heh"
   ]
  }
 ],
 "metadata": {
  "kernelspec": {
   "display_name": "Python 3",
   "language": "python",
   "name": "python3"
  },
  "language_info": {
   "codemirror_mode": {
    "name": "ipython",
    "version": 3
   },
   "file_extension": ".py",
   "mimetype": "text/x-python",
   "name": "python",
   "nbconvert_exporter": "python",
   "pygments_lexer": "ipython3",
   "version": "3.8.8"
  }
 },
 "nbformat": 4,
 "nbformat_minor": 4
}
